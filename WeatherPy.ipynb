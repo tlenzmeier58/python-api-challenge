{
 "cells": [
  {
   "cell_type": "markdown",
   "metadata": {},
   "source": [
    "# WeatherPy\n",
    "----\n",
    "\n",
    "#### Note\n",
    "* Instructions have been included for each segment. You do not have to follow them exactly, but they are included to help you think through the steps."
   ]
  },
  {
   "cell_type": "code",
   "execution_count": 1,
   "metadata": {
    "scrolled": true
   },
   "outputs": [],
   "source": [
    "# Dependencies and Setup\n",
    "import matplotlib.pyplot as plt\n",
    "import pandas as pd\n",
    "import numpy as np\n",
    "import requests\n",
    "import time\n",
    "from scipy.stats import linregress\n",
    "import datetime as dt\n",
    "\n",
    "# Import API key\n",
    "from config import weather_api_key\n",
    "\n",
    "# Incorporated citipy to determine city based on latitude and longitude\n",
    "from citipy import citipy\n",
    "\n",
    "# Output File (CSV)\n",
    "output_data_file = \"output_data/cities.csv\"\n",
    "\n",
    "# Range of latitudes and longitudes\n",
    "lat_range = (-90, 90)\n",
    "lng_range = (-180, 180)\n"
   ]
  },
  {
   "cell_type": "markdown",
   "metadata": {},
   "source": [
    "## Generate Cities List"
   ]
  },
  {
   "cell_type": "code",
   "execution_count": 2,
   "metadata": {},
   "outputs": [
    {
     "data": {
      "text/plain": [
       "642"
      ]
     },
     "execution_count": 2,
     "metadata": {},
     "output_type": "execute_result"
    }
   ],
   "source": [
    "# List for holding lat_lngs and cities\n",
    "lat_lngs = []\n",
    "cities = []\n",
    "\n",
    "# Create a set of random lat and lng combinations\n",
    "lats = np.random.uniform(lat_range[0], lat_range[1], size=1500)\n",
    "lngs = np.random.uniform(lng_range[0], lng_range[1], size=1500)\n",
    "lat_lngs = zip(lats, lngs)\n",
    "\n",
    "# Identify nearest city for each lat, lng combination\n",
    "for lat_lng in lat_lngs:\n",
    "    city = citipy.nearest_city(lat_lng[0], lat_lng[1]).city_name\n",
    "    \n",
    "    # If the city is unique, then add it to a our cities list\n",
    "    if city not in cities:\n",
    "        cities.append(city)\n",
    "\n",
    "# Print the city count to confirm sufficient count\n",
    "len(cities)\n",
    "#print(cities)\n",
    "\n"
   ]
  },
  {
   "cell_type": "markdown",
   "metadata": {},
   "source": [
    "### Perform API Calls\n",
    "* Perform a weather check on each city using a series of successive API calls.\n",
    "* Include a print log of each city as it'sbeing processed (with the city number and city name).\n"
   ]
  },
  {
   "cell_type": "code",
   "execution_count": 3,
   "metadata": {
    "scrolled": true
   },
   "outputs": [
    {
     "name": "stdout",
     "output_type": "stream",
     "text": [
      "Processing record: jamestown\n",
      "Processing record: bluff\n",
      "Processing record: busselton\n",
      "Processing record: vaini\n",
      "Processing record: rikitea\n",
      "Processing record: nyurba\n",
      "Processing record: port lincoln\n",
      "Processing record: mahebourg\n",
      "Processing record: zaraza\n",
      "Processing record: esperance\n",
      "Processing record: kapuskasing\n",
      "Processing record: hambantota\n",
      "Processing record: havoysund\n",
      "Processing record: samarai\n",
      "Processing record: hermanus\n",
      "Processing record: butaritari\n",
      "City not found: doctor pedro p. pena\n",
      "Processing record: tasiilaq\n",
      "Processing record: namatanai\n",
      "Processing record: mogadishu\n",
      "Processing record: rawson\n",
      "Processing record: dwarka\n",
      "Processing record: provideniya\n",
      "Processing record: kapaa\n",
      "Processing record: bredasdorp\n",
      "Processing record: cidreira\n",
      "Processing record: georgetown\n",
      "Processing record: ushuaia\n",
      "Processing record: borodino\n",
      "Processing record: hauterive\n",
      "Processing record: fortuna\n",
      "Processing record: castro\n",
      "Processing record: bandarbeyla\n",
      "Processing record: arauco\n",
      "Processing record: punta arenas\n",
      "Processing record: lebu\n",
      "Processing record: mataura\n",
      "Processing record: hualmay\n",
      "Processing record: honiara\n",
      "Processing record: cape town\n",
      "Processing record: ambilobe\n",
      "City not found: bababe\n",
      "Processing record: tevaitoa\n",
      "Processing record: east london\n",
      "Processing record: hobart\n",
      "Processing record: faanui\n",
      "Processing record: atuona\n",
      "Processing record: bathsheba\n",
      "Processing record: butembo\n",
      "Processing record: nouadhibou\n",
      "Processing record: white oak\n",
      "Processing record: barrow\n",
      "Processing record: nikolskoye\n",
      "Processing record: westport\n",
      "Processing record: port alfred\n",
      "Processing record: kasongo\n",
      "Processing record: leningradskiy\n",
      "Processing record: albany\n",
      "Processing record: warah\n",
      "Processing record: beringovskiy\n",
      "Processing record: rafai\n",
      "Processing record: karratha\n",
      "Processing record: shedok\n",
      "Processing record: tautira\n",
      "Processing record: faya\n",
      "Processing record: puerto leguizamo\n",
      "Processing record: abatskoye\n",
      "Processing record: nuuk\n",
      "Processing record: dikson\n",
      "Processing record: senanga\n",
      "Processing record: kloulklubed\n",
      "Processing record: petropavlovsk-kamchatskiy\n",
      "Processing record: luba\n",
      "Processing record: andenes\n",
      "Processing record: itarema\n",
      "Processing record: goderich\n",
      "Processing record: hilo\n",
      "Processing record: cateel\n",
      "Processing record: mar del plata\n",
      "Processing record: bilma\n",
      "Processing record: nevelsk\n",
      "City not found: lolua\n",
      "City not found: barentsburg\n",
      "Processing record: tuatapere\n",
      "Processing record: chokurdakh\n",
      "Processing record: oistins\n",
      "Processing record: yerbogachen\n",
      "Processing record: ornskoldsvik\n",
      "Processing record: souillac\n",
      "Processing record: bud\n",
      "City not found: mys shmidta\n",
      "Processing record: margate\n",
      "Processing record: morros\n",
      "Processing record: hithadhoo\n",
      "Processing record: ancud\n",
      "Processing record: riyadh\n",
      "Processing record: arraial do cabo\n",
      "Processing record: hasaki\n",
      "Processing record: nambucca heads\n",
      "City not found: illoqqortoormiut\n",
      "Processing record: avarua\n",
      "Processing record: luau\n",
      "Processing record: upernavik\n",
      "Processing record: waingapu\n",
      "Processing record: kahului\n",
      "Processing record: dingle\n",
      "Processing record: deer lake\n",
      "Processing record: port hawkesbury\n",
      "Processing record: takeo\n",
      "Processing record: puerto del rosario\n",
      "Processing record: sao joao da barra\n",
      "Processing record: port elizabeth\n",
      "Processing record: lagunas\n",
      "Processing record: clyde river\n",
      "Processing record: bulungu\n",
      "Processing record: kruisfontein\n",
      "Processing record: san quintin\n",
      "Processing record: mufumbwe\n",
      "Processing record: vao\n",
      "Processing record: rassvet\n",
      "Processing record: fort nelson\n",
      "Processing record: niamey\n",
      "City not found: toliary\n",
      "Processing record: puerto ayora\n",
      "Processing record: kodiak\n",
      "Processing record: graaff-reinet\n",
      "Processing record: kavaratti\n",
      "Processing record: gawler\n",
      "Processing record: tual\n",
      "Processing record: bethel\n",
      "Processing record: hanmer springs\n",
      "City not found: labutta\n",
      "City not found: belushya guba\n",
      "Processing record: chicama\n",
      "Processing record: kaitangata\n",
      "Processing record: kanata\n",
      "City not found: cumaribo\n",
      "Processing record: kieta\n",
      "Processing record: ayagoz\n",
      "Processing record: carnarvon\n",
      "Processing record: verkhnyaya inta\n",
      "City not found: nizhneyansk\n",
      "Processing record: saint-philippe\n",
      "Processing record: paoua\n",
      "Processing record: tabory\n",
      "Processing record: toumodi\n",
      "Processing record: plattsburgh\n",
      "City not found: taolanaro\n",
      "Processing record: qaanaaq\n",
      "Processing record: blagoyevo\n",
      "Processing record: blatec\n",
      "Processing record: yar-sale\n",
      "Processing record: makakilo city\n",
      "Processing record: saskylakh\n",
      "Processing record: kedrovyy\n",
      "Processing record: fallon\n",
      "Processing record: bambous virieux\n",
      "City not found: saint-pacome\n",
      "Processing record: malanje\n",
      "Processing record: ribeira grande\n",
      "Processing record: chuy\n",
      "Processing record: vanimo\n",
      "Processing record: broken hill\n",
      "Processing record: longyearbyen\n",
      "Processing record: nanortalik\n",
      "Processing record: tiksi\n",
      "Processing record: nome\n",
      "Processing record: padang\n",
      "Processing record: port augusta\n",
      "Processing record: tuktoyaktuk\n",
      "Processing record: sitka\n",
      "Processing record: san patricio\n",
      "Processing record: saint george\n",
      "Processing record: paamiut\n",
      "Processing record: yellowknife\n",
      "Processing record: bilibino\n",
      "Processing record: isangel\n",
      "Processing record: tecoanapa\n",
      "Processing record: olovyannaya\n",
      "Processing record: cherskiy\n",
      "Processing record: olafsvik\n",
      "Processing record: lasa\n",
      "Processing record: ponta do sol\n",
      "Processing record: karpogory\n",
      "City not found: tidore\n",
      "Processing record: husavik\n",
      "Processing record: zhigansk\n",
      "Processing record: new norfolk\n",
      "Processing record: constantine\n",
      "Processing record: norman wells\n",
      "Processing record: loukhi\n",
      "Processing record: quatre cocos\n",
      "Processing record: victoria\n",
      "Processing record: boa vista\n",
      "Processing record: maputo\n",
      "Processing record: asau\n",
      "Processing record: guilin\n",
      "Processing record: biryusinsk\n",
      "Processing record: buraydah\n",
      "City not found: saleaula\n",
      "Processing record: dakar\n",
      "Processing record: telenesti\n",
      "Processing record: den helder\n",
      "Processing record: lodja\n",
      "Processing record: muisne\n",
      "Processing record: manitouwadge\n",
      "Processing record: samana\n",
      "Processing record: meulaboh\n",
      "Processing record: challans\n",
      "City not found: tungkang\n",
      "Processing record: pochutla\n",
      "Processing record: coquimbo\n",
      "Processing record: nacala\n",
      "Processing record: pisco\n",
      "Processing record: torbay\n",
      "Processing record: sao filipe\n",
      "City not found: falealupo\n",
      "Processing record: nago\n",
      "Processing record: havre-saint-pierre\n",
      "Processing record: oyama\n",
      "City not found: grand river south east\n",
      "Processing record: pontianak\n",
      "Processing record: macenta\n",
      "Processing record: dalianwan\n",
      "Processing record: broome\n",
      "Processing record: salinopolis\n",
      "Processing record: dalvik\n",
      "Processing record: xuddur\n",
      "Processing record: whitehorse\n",
      "Processing record: thompson\n",
      "Processing record: horizontina\n",
      "Processing record: comodoro rivadavia\n",
      "Processing record: east cleveland\n",
      "Processing record: gari\n",
      "Processing record: mayo\n",
      "Processing record: wattegama\n",
      "Processing record: isla mujeres\n",
      "Processing record: pemba\n",
      "Processing record: kununurra\n",
      "Processing record: saint-augustin\n",
      "Processing record: cuauhtemoc\n",
      "Processing record: elk point\n",
      "Processing record: westerland\n",
      "Processing record: ahipara\n",
      "Processing record: agadez\n",
      "City not found: tsihombe\n",
      "Processing record: tocopilla\n",
      "Processing record: treinta y tres\n",
      "Processing record: mon\n",
      "Processing record: ixtapa\n",
      "City not found: attawapiskat\n",
      "Processing record: ostrovnoy\n",
      "Processing record: ushtobe\n",
      "Processing record: ninh binh\n",
      "Processing record: council bluffs\n",
      "Processing record: toamasina\n",
      "Processing record: burgeo\n",
      "Processing record: airai\n",
      "Processing record: saldanha\n",
      "Processing record: kinablangan\n",
      "Processing record: bereda\n",
      "City not found: samusu\n",
      "Processing record: bengkulu\n",
      "Processing record: berezovyy\n",
      "Processing record: alpena\n",
      "Processing record: vermilion\n",
      "Processing record: raga\n",
      "Processing record: shimoda\n",
      "Processing record: ballina\n",
      "Processing record: freeport\n",
      "Processing record: satchinez\n",
      "Processing record: olhao\n",
      "Processing record: samsun\n",
      "Processing record: yulara\n",
      "Processing record: tingi\n",
      "Processing record: bara\n",
      "Processing record: kabinda\n",
      "Processing record: pedernales\n",
      "Processing record: constitucion\n",
      "Processing record: terra santa\n",
      "Processing record: aba\n",
      "Processing record: leshukonskoye\n",
      "Processing record: rio grande\n",
      "Processing record: vila\n",
      "Processing record: mount isa\n",
      "Processing record: thohoyandou\n",
      "Processing record: cairns\n",
      "Processing record: champerico\n",
      "Processing record: san marcos\n",
      "Processing record: lompoc\n",
      "City not found: samalaeulu\n",
      "Processing record: hobyo\n",
      "Processing record: sivaki\n",
      "Processing record: banda aceh\n",
      "Processing record: ilulissat\n",
      "Processing record: turayf\n",
      "Processing record: bat khela\n",
      "Processing record: puerto gaitan\n",
      "Processing record: ugoofaaru\n",
      "City not found: tumannyy\n",
      "Processing record: santa cruz de tenerife\n",
      "Processing record: hopkinton\n",
      "Processing record: panaba\n",
      "Processing record: ullerslev\n",
      "Processing record: yantal\n",
      "Processing record: hrebinka\n",
      "Processing record: lata\n",
      "Processing record: lagoa\n",
      "Processing record: vancouver\n",
      "Processing record: sibolga\n",
      "Processing record: vostok\n",
      "Processing record: killybegs\n",
      "Processing record: namtsy\n",
      "Processing record: kavieng\n",
      "Processing record: guider\n",
      "Processing record: chodziez\n",
      "Processing record: puerto cabezas\n",
      "City not found: mullaitivu\n",
      "Processing record: umm lajj\n",
      "Processing record: bairiki\n",
      "Processing record: aklavik\n",
      "Processing record: nenjiang\n",
      "Processing record: lamu\n",
      "Processing record: laurel\n",
      "Processing record: kangaatsiaq\n",
      "Processing record: narsaq\n",
      "Processing record: portland\n",
      "Processing record: taltal\n",
      "Processing record: mamlyutka\n",
      "Processing record: fort myers beach\n",
      "Processing record: baykit\n",
      "Processing record: colombo\n",
      "Processing record: nijar\n",
      "Processing record: morro bay\n",
      "City not found: sentyabrskiy\n",
      "Processing record: tripoli\n",
      "Processing record: tiznit\n",
      "Processing record: mantua\n",
      "Processing record: luzhou\n",
      "Processing record: joshimath\n",
      "City not found: meyungs\n",
      "Processing record: sabla\n",
      "Processing record: christchurch\n",
      "Processing record: tromso\n",
      "Processing record: xiangxiang\n",
      "Processing record: mucuri\n",
      "Processing record: luanda\n",
      "Processing record: necochea\n",
      "Processing record: catalao\n",
      "City not found: solovetskiy\n",
      "Processing record: puerto maldonado\n",
      "Processing record: codrington\n",
      "City not found: malwan\n",
      "Processing record: port blair\n",
      "Processing record: matias romero\n",
      "Processing record: shagonar\n",
      "Processing record: khatanga\n",
      "Processing record: harper\n",
      "Processing record: touros\n",
      "City not found: mentok\n",
      "City not found: amderma\n",
      "Processing record: kralendijk\n",
      "Processing record: maniitsoq\n",
      "Processing record: okha\n",
      "Processing record: kajaani\n",
      "Processing record: port macquarie\n",
      "Processing record: elat\n",
      "Processing record: rorvik\n",
      "Processing record: hearst\n",
      "Processing record: bayir\n",
      "City not found: temaraia\n",
      "Processing record: cabo san lucas\n",
      "Processing record: la asuncion\n",
      "Processing record: acarau\n",
      "Processing record: yarmouth\n",
      "City not found: yanchukan\n",
      "City not found: gurgan\n",
      "Processing record: reyes\n",
      "Processing record: rivadavia\n",
      "Processing record: kytmanovo\n",
      "Processing record: borba\n",
      "Processing record: chimbote\n",
      "Processing record: lubango\n",
      "Processing record: alofi\n",
      "Processing record: orlik\n",
      "Processing record: tessalit\n",
      "Processing record: katsuura\n",
      "Processing record: mangrol\n",
      "Processing record: bagdarin\n",
      "Processing record: puerto palomas\n",
      "Processing record: vila velha\n",
      "Processing record: dalbandin\n",
      "Processing record: son la\n",
      "Processing record: alta\n",
      "Processing record: bahia blanca\n",
      "Processing record: port keats\n",
      "City not found: satitoa\n",
      "Processing record: mount gambier\n",
      "Processing record: shingu\n",
      "Processing record: kushiro\n",
      "Processing record: marawi\n",
      "Processing record: vilyuysk\n",
      "Processing record: ovalle\n",
      "Processing record: half moon bay\n",
      "Processing record: loanda\n",
      "Processing record: geraldton\n",
      "Processing record: sinnamary\n",
      "Processing record: hofn\n",
      "Processing record: trenggalek\n",
      "City not found: ye\n",
      "Processing record: alyangula\n",
      "Processing record: coihaique\n",
      "Processing record: vallenar\n",
      "Processing record: hamilton\n",
      "Processing record: kandrian\n",
      "Processing record: eydhafushi\n",
      "Processing record: montepuez\n",
      "Processing record: gornoye loo\n",
      "Processing record: emerald\n",
      "Processing record: libreville\n",
      "Processing record: pevek\n",
      "Processing record: fengcheng\n",
      "Processing record: roros\n",
      "Processing record: severo-kurilsk\n",
      "Processing record: cockburn town\n",
      "City not found: marcona\n",
      "Processing record: gokak\n",
      "Processing record: saint-pierre\n",
      "Processing record: araouane\n",
      "Processing record: santa teresa\n",
      "Processing record: clifton\n",
      "City not found: bolungarvik\n",
      "Processing record: mutsu\n",
      "Processing record: san ignacio\n",
      "Processing record: anadyr\n",
      "Processing record: knysna\n",
      "Processing record: jatibonico\n",
      "Processing record: palmer\n",
      "City not found: makung\n",
      "Processing record: soderhamn\n",
      "Processing record: horsham\n",
      "Processing record: eureka\n",
      "Processing record: fare\n",
      "Processing record: dabakala\n",
      "Processing record: mehamn\n",
      "Processing record: grenfell\n",
      "Processing record: berdigestyakh\n",
      "Processing record: jahanabad\n",
      "Processing record: yarada\n",
      "Processing record: saint-leu\n",
      "Processing record: camacha\n",
      "Processing record: sengiley\n",
      "Processing record: cururupu\n",
      "City not found: khonuu\n",
      "Processing record: takoradi\n",
      "Processing record: vagay\n",
      "Processing record: nicoya\n",
      "Processing record: macia\n",
      "Processing record: thessalon\n",
      "Processing record: pocone\n",
      "Processing record: ishii\n",
      "Processing record: nadym\n",
      "Processing record: booue\n",
      "Processing record: olonets\n",
      "Processing record: angoche\n",
      "Processing record: amboise\n",
      "Processing record: fukue\n",
      "City not found: palabuhanratu\n",
      "Processing record: mangan\n",
      "Processing record: stranda\n",
      "Processing record: ilebo\n",
      "Processing record: susanville\n",
      "Processing record: ascension\n",
      "Processing record: moree\n",
      "Processing record: eyl\n",
      "Processing record: hinton\n",
      "Processing record: sept-iles\n",
      "Processing record: rio gallegos\n",
      "Processing record: vestmannaeyjar\n",
      "Processing record: maldonado\n",
      "Processing record: athens\n",
      "Processing record: acapulco\n",
      "Processing record: saucillo\n",
      "Processing record: kutum\n",
      "Processing record: hukuntsi\n",
      "Processing record: ciudad bolivar\n",
      "Processing record: iskateley\n",
      "Processing record: awjilah\n",
      "Processing record: yeppoon\n",
      "Processing record: meiganga\n",
      "Processing record: amlame\n",
      "Processing record: bani\n",
      "Processing record: haines junction\n",
      "Processing record: vung tau\n",
      "Processing record: puerto penasco\n",
      "Processing record: kroya\n",
      "Processing record: vardo\n",
      "Processing record: bardiyah\n",
      "Processing record: marystown\n",
      "Processing record: kalabo\n",
      "Processing record: port-cartier\n",
      "Processing record: nanzhang\n",
      "Processing record: sisimiut\n",
      "Processing record: gladstone\n",
      "Processing record: raudeberg\n",
      "Processing record: soe\n",
      "Processing record: bulawayo\n",
      "Processing record: aleksandrov gay\n",
      "Processing record: vaitape\n",
      "Processing record: gamba\n",
      "Processing record: quarteira\n",
      "Processing record: lagdo\n",
      "Processing record: pulandian\n",
      "Processing record: terney\n",
      "Processing record: jhawarian\n",
      "Processing record: kapit\n",
      "Processing record: labrea\n",
      "Processing record: barao de melgaco\n",
      "City not found: palkaka\n",
      "Processing record: blois\n",
      "Processing record: sao felix do xingu\n",
      "Processing record: matagami\n",
      "Processing record: tougue\n",
      "Processing record: amahai\n",
      "Processing record: tongliao\n",
      "Processing record: hami\n",
      "Processing record: coari\n",
      "City not found: allanmyo\n",
      "Processing record: sainte-maxime\n",
      "Processing record: porto de moz\n",
      "Processing record: lavrentiya\n",
      "Processing record: edd\n",
      "Processing record: qasigiannguit\n",
      "Processing record: guerrero negro\n",
      "Processing record: loreto\n",
      "Processing record: southbridge\n",
      "Processing record: praia\n",
      "Processing record: sao jose da coroa grande\n",
      "City not found: umzimvubu\n",
      "Processing record: mae ramat\n",
      "Processing record: kudahuvadhoo\n",
      "Processing record: krasnoarmeysk\n",
      "Processing record: tacuarembo\n",
      "Processing record: tucupita\n",
      "Processing record: mizdah\n",
      "Processing record: mildura\n",
      "Processing record: san jose\n",
      "Processing record: jaciara\n",
      "Processing record: hirado\n",
      "Processing record: shelburne\n",
      "Processing record: rundu\n",
      "Processing record: kantunilkin\n",
      "Processing record: dubove\n",
      "Processing record: zabid\n",
      "Processing record: pitimbu\n",
      "Processing record: danane\n",
      "Processing record: beloha\n",
      "Processing record: nuevitas\n",
      "Processing record: pohorelice\n",
      "Processing record: pospelikha\n",
      "Processing record: banjarmasin\n",
      "City not found: urdzhar\n",
      "Processing record: rapar\n",
      "Processing record: byron bay\n",
      "Processing record: deputatskiy\n",
      "Processing record: alghero\n",
      "Processing record: amapa\n",
      "Processing record: noumea\n",
      "Processing record: sabang\n",
      "Processing record: puro\n",
      "Processing record: uusikaupunki\n",
      "Processing record: lugoba\n",
      "City not found: grand centre\n",
      "Processing record: college\n",
      "Processing record: talnakh\n",
      "Processing record: kodinsk\n",
      "City not found: ust-kamchatsk\n",
      "Processing record: evensk\n",
      "Processing record: marovoay\n",
      "Processing record: sheridan\n",
      "Processing record: the valley\n",
      "City not found: urulga\n",
      "Processing record: great yarmouth\n",
      "Processing record: bundoran\n",
      "Processing record: zlobin\n",
      "Processing record: warman\n",
      "Processing record: wentzville\n",
      "Processing record: ghoti\n",
      "Processing record: labuhan\n",
      "Processing record: yukamenskoye\n",
      "Processing record: nelson bay\n",
      "Processing record: svetlaya\n",
      "Processing record: maseru\n",
      "Processing record: kirakira\n",
      "City not found: of\n",
      "Processing record: marquette\n",
      "Processing record: morondava\n",
      "Processing record: beyneu\n",
      "Processing record: mezen\n",
      "Processing record: linhares\n",
      "Processing record: kondoa\n",
      "Processing record: kathmandu\n",
      "Processing record: komarno\n",
      "Processing record: namibe\n",
      "Processing record: trairi\n",
      "Processing record: korla\n",
      "Processing record: camapua\n",
      "Processing record: turukhansk\n",
      "Processing record: opuwo\n",
      "Processing record: novikovo\n",
      "Processing record: manta\n",
      "Processing record: kabare\n",
      "Processing record: merauke\n",
      "Processing record: kaeo\n",
      "Processing record: washington\n",
      "Processing record: kosa\n",
      "Processing record: canandaigua\n",
      "Processing record: lorengau\n",
      "Processing record: mananjary\n",
      "Processing record: verkhnevilyuysk\n",
      "Processing record: gobabis\n",
      "Processing record: roald\n",
      "City not found: zolotinka\n",
      "Processing record: sandusky\n",
      "Processing record: iquitos\n",
      "Processing record: srednekolymsk\n",
      "Processing record: karaton\n",
      "Processing record: chernenko\n",
      "Processing record: cabanas\n",
      "Processing record: mana\n",
      "Processing record: south yuba city\n",
      "Processing record: zapolyarnyy\n",
      "Processing record: manaure\n",
      "Processing record: darhan\n",
      "Processing record: iqaluit\n",
      "Processing record: gorontalo\n",
      "Processing record: moose factory\n",
      "Processing record: tongchuan\n",
      "Processing record: hirara\n",
      "Processing record: blue springs\n",
      "Processing record: barraute\n",
      "Processing record: pierre\n",
      "Finished\n"
     ]
    }
   ],
   "source": [
    "# Weather from above cited cities\n",
    "base_url = \"https://api.openweathermap.org/data/2.5/weather?\"\n",
    "units = 'imperial'\n",
    "APPID = weather_api_key\n",
    "query_url = f\"{base_url}appid={APPID}&units={units}&q=\"\n",
    "\n",
    "#cities = [\"Minneapolis\", \"Duluth\", \"Mankato\"]\n",
    "\n",
    "# Lists for output\n",
    "lat = []\n",
    "lon = []\n",
    "found_cities = []\n",
    "temp = []\n",
    "humidity = []\n",
    "cloudiness = []\n",
    "wind_speed = []\n",
    "date = []\n",
    "country = []\n",
    "for city in cities:\n",
    "    try:\n",
    "        response = requests.get(query_url + city).json()\n",
    "        lat.append(response['coord']['lat'])\n",
    "        lon.append(response['coord']['lon'])\n",
    "        temp.append(response['main']['temp_max'])\n",
    "        humidity.append(response['main']['humidity'])\n",
    "        cloudiness.append(response['clouds']['all'])\n",
    "        wind_speed.append(response['wind']['speed'])\n",
    "        date.append(response['dt'])\n",
    "        country.append(response['sys']['country'])\n",
    "        date.append(response['dt'])\n",
    "        found_cities.append(city)\n",
    "        print(f\"Processing record: {city}\")\n",
    "    except:\n",
    "        print(f\"City not found: {city}\")\n",
    "print(f\"Finished\")\n"
   ]
  },
  {
   "cell_type": "markdown",
   "metadata": {},
   "source": [
    "### Convert Raw Data to DataFrame\n",
    "* Export the city data into a .csv.\n",
    "* Display the DataFrame"
   ]
  },
  {
   "cell_type": "code",
   "execution_count": 4,
   "metadata": {},
   "outputs": [
    {
     "data": {
      "text/html": [
       "<div>\n",
       "<style scoped>\n",
       "    .dataframe tbody tr th:only-of-type {\n",
       "        vertical-align: middle;\n",
       "    }\n",
       "\n",
       "    .dataframe tbody tr th {\n",
       "        vertical-align: top;\n",
       "    }\n",
       "\n",
       "    .dataframe thead th {\n",
       "        text-align: right;\n",
       "    }\n",
       "</style>\n",
       "<table border=\"1\" class=\"dataframe\">\n",
       "  <thead>\n",
       "    <tr style=\"text-align: right;\">\n",
       "      <th></th>\n",
       "      <th>City</th>\n",
       "      <th>Lat</th>\n",
       "      <th>Lon</th>\n",
       "      <th>Max Temp</th>\n",
       "      <th>Humidity</th>\n",
       "      <th>Cloudiness</th>\n",
       "      <th>Wind Speed</th>\n",
       "      <th>Country</th>\n",
       "      <th>Date</th>\n",
       "    </tr>\n",
       "  </thead>\n",
       "  <tbody>\n",
       "    <tr>\n",
       "      <th>0</th>\n",
       "      <td>jamestown</td>\n",
       "      <td>42.0970</td>\n",
       "      <td>-79.2353</td>\n",
       "      <td>63.99</td>\n",
       "      <td>47</td>\n",
       "      <td>83</td>\n",
       "      <td>2.91</td>\n",
       "      <td>US</td>\n",
       "      <td>2022-08-10</td>\n",
       "    </tr>\n",
       "    <tr>\n",
       "      <th>1</th>\n",
       "      <td>bluff</td>\n",
       "      <td>-46.6000</td>\n",
       "      <td>168.3333</td>\n",
       "      <td>44.80</td>\n",
       "      <td>57</td>\n",
       "      <td>8</td>\n",
       "      <td>10.22</td>\n",
       "      <td>NZ</td>\n",
       "      <td>2022-08-10</td>\n",
       "    </tr>\n",
       "    <tr>\n",
       "      <th>2</th>\n",
       "      <td>busselton</td>\n",
       "      <td>-33.6500</td>\n",
       "      <td>115.3333</td>\n",
       "      <td>55.62</td>\n",
       "      <td>75</td>\n",
       "      <td>89</td>\n",
       "      <td>3.62</td>\n",
       "      <td>AU</td>\n",
       "      <td>2022-08-10</td>\n",
       "    </tr>\n",
       "    <tr>\n",
       "      <th>3</th>\n",
       "      <td>vaini</td>\n",
       "      <td>-21.2000</td>\n",
       "      <td>-175.2000</td>\n",
       "      <td>80.76</td>\n",
       "      <td>89</td>\n",
       "      <td>75</td>\n",
       "      <td>17.27</td>\n",
       "      <td>TO</td>\n",
       "      <td>2022-08-10</td>\n",
       "    </tr>\n",
       "    <tr>\n",
       "      <th>4</th>\n",
       "      <td>rikitea</td>\n",
       "      <td>-23.1203</td>\n",
       "      <td>-134.9692</td>\n",
       "      <td>73.24</td>\n",
       "      <td>73</td>\n",
       "      <td>100</td>\n",
       "      <td>22.44</td>\n",
       "      <td>PF</td>\n",
       "      <td>2022-08-10</td>\n",
       "    </tr>\n",
       "  </tbody>\n",
       "</table>\n",
       "</div>"
      ],
      "text/plain": [
       "        City      Lat       Lon  Max Temp  Humidity  Cloudiness  Wind Speed  \\\n",
       "0  jamestown  42.0970  -79.2353     63.99        47          83        2.91   \n",
       "1      bluff -46.6000  168.3333     44.80        57           8       10.22   \n",
       "2  busselton -33.6500  115.3333     55.62        75          89        3.62   \n",
       "3      vaini -21.2000 -175.2000     80.76        89          75       17.27   \n",
       "4    rikitea -23.1203 -134.9692     73.24        73         100       22.44   \n",
       "\n",
       "  Country        Date  \n",
       "0      US  2022-08-10  \n",
       "1      NZ  2022-08-10  \n",
       "2      AU  2022-08-10  \n",
       "3      TO  2022-08-10  \n",
       "4      PF  2022-08-10  "
      ]
     },
     "execution_count": 4,
     "metadata": {},
     "output_type": "execute_result"
    }
   ],
   "source": [
    "\n",
    "weather_df = pd.DataFrame({\n",
    "    'City':found_cities, \n",
    "    'Lat':lat,\n",
    "    'Lon':lon,\n",
    "    'Max Temp':temp,\n",
    "    'Humidity':humidity,\n",
    "    'Cloudiness':cloudiness,\n",
    "    'Wind Speed':wind_speed,\n",
    "    'Country':country,\n",
    "    'Date': dt.date.today()\n",
    "    })\n",
    "weather_df.to_csv(\"../python-api-challenge/output/cities.csv\", index=True, index_label='City', header=True)\n",
    "\n",
    "weather_df.head()"
   ]
  },
  {
   "cell_type": "markdown",
   "metadata": {},
   "source": [
    "## Inspect the data and remove the cities where the humidity > 100%.\n",
    "----\n",
    "Skip this step if there are no cities that have humidity > 100%. "
   ]
  },
  {
   "cell_type": "code",
   "execution_count": 5,
   "metadata": {},
   "outputs": [
    {
     "data": {
      "text/html": [
       "<div>\n",
       "<style scoped>\n",
       "    .dataframe tbody tr th:only-of-type {\n",
       "        vertical-align: middle;\n",
       "    }\n",
       "\n",
       "    .dataframe tbody tr th {\n",
       "        vertical-align: top;\n",
       "    }\n",
       "\n",
       "    .dataframe thead th {\n",
       "        text-align: right;\n",
       "    }\n",
       "</style>\n",
       "<table border=\"1\" class=\"dataframe\">\n",
       "  <thead>\n",
       "    <tr style=\"text-align: right;\">\n",
       "      <th></th>\n",
       "      <th>City</th>\n",
       "      <th>Lat</th>\n",
       "      <th>Lon</th>\n",
       "      <th>Max Temp</th>\n",
       "      <th>Humidity</th>\n",
       "      <th>Cloudiness</th>\n",
       "      <th>Wind Speed</th>\n",
       "      <th>Country</th>\n",
       "      <th>Date</th>\n",
       "    </tr>\n",
       "  </thead>\n",
       "  <tbody>\n",
       "  </tbody>\n",
       "</table>\n",
       "</div>"
      ],
      "text/plain": [
       "Empty DataFrame\n",
       "Columns: [City, Lat, Lon, Max Temp, Humidity, Cloudiness, Wind Speed, Country, Date]\n",
       "Index: []"
      ]
     },
     "execution_count": 5,
     "metadata": {},
     "output_type": "execute_result"
    }
   ],
   "source": [
    "steamy = weather_df[weather_df['Humidity'] > 100]\n",
    "steamy"
   ]
  },
  {
   "cell_type": "code",
   "execution_count": 6,
   "metadata": {},
   "outputs": [
    {
     "data": {
      "text/html": [
       "<div>\n",
       "<style scoped>\n",
       "    .dataframe tbody tr th:only-of-type {\n",
       "        vertical-align: middle;\n",
       "    }\n",
       "\n",
       "    .dataframe tbody tr th {\n",
       "        vertical-align: top;\n",
       "    }\n",
       "\n",
       "    .dataframe thead th {\n",
       "        text-align: right;\n",
       "    }\n",
       "</style>\n",
       "<table border=\"1\" class=\"dataframe\">\n",
       "  <thead>\n",
       "    <tr style=\"text-align: right;\">\n",
       "      <th></th>\n",
       "      <th>Lat</th>\n",
       "      <th>Lon</th>\n",
       "      <th>Max Temp</th>\n",
       "      <th>Humidity</th>\n",
       "      <th>Cloudiness</th>\n",
       "      <th>Wind Speed</th>\n",
       "    </tr>\n",
       "  </thead>\n",
       "  <tbody>\n",
       "    <tr>\n",
       "      <th>count</th>\n",
       "      <td>593.000000</td>\n",
       "      <td>593.000000</td>\n",
       "      <td>593.000000</td>\n",
       "      <td>593.000000</td>\n",
       "      <td>593.000000</td>\n",
       "      <td>593.000000</td>\n",
       "    </tr>\n",
       "    <tr>\n",
       "      <th>mean</th>\n",
       "      <td>19.379263</td>\n",
       "      <td>13.919403</td>\n",
       "      <td>68.566695</td>\n",
       "      <td>72.905565</td>\n",
       "      <td>54.659359</td>\n",
       "      <td>7.676239</td>\n",
       "    </tr>\n",
       "    <tr>\n",
       "      <th>std</th>\n",
       "      <td>33.344379</td>\n",
       "      <td>89.344845</td>\n",
       "      <td>12.893460</td>\n",
       "      <td>18.799561</td>\n",
       "      <td>41.794971</td>\n",
       "      <td>5.570628</td>\n",
       "    </tr>\n",
       "    <tr>\n",
       "      <th>min</th>\n",
       "      <td>-54.800000</td>\n",
       "      <td>-175.200000</td>\n",
       "      <td>35.080000</td>\n",
       "      <td>11.000000</td>\n",
       "      <td>0.000000</td>\n",
       "      <td>0.000000</td>\n",
       "    </tr>\n",
       "    <tr>\n",
       "      <th>25%</th>\n",
       "      <td>-8.050000</td>\n",
       "      <td>-66.663100</td>\n",
       "      <td>59.050000</td>\n",
       "      <td>65.000000</td>\n",
       "      <td>7.000000</td>\n",
       "      <td>3.620000</td>\n",
       "    </tr>\n",
       "    <tr>\n",
       "      <th>50%</th>\n",
       "      <td>21.283300</td>\n",
       "      <td>16.919800</td>\n",
       "      <td>69.930000</td>\n",
       "      <td>78.000000</td>\n",
       "      <td>65.000000</td>\n",
       "      <td>6.150000</td>\n",
       "    </tr>\n",
       "    <tr>\n",
       "      <th>75%</th>\n",
       "      <td>47.499700</td>\n",
       "      <td>92.750000</td>\n",
       "      <td>78.460000</td>\n",
       "      <td>87.000000</td>\n",
       "      <td>100.000000</td>\n",
       "      <td>10.130000</td>\n",
       "    </tr>\n",
       "    <tr>\n",
       "      <th>max</th>\n",
       "      <td>78.218600</td>\n",
       "      <td>179.316700</td>\n",
       "      <td>99.460000</td>\n",
       "      <td>100.000000</td>\n",
       "      <td>100.000000</td>\n",
       "      <td>31.070000</td>\n",
       "    </tr>\n",
       "  </tbody>\n",
       "</table>\n",
       "</div>"
      ],
      "text/plain": [
       "              Lat         Lon    Max Temp    Humidity  Cloudiness  Wind Speed\n",
       "count  593.000000  593.000000  593.000000  593.000000  593.000000  593.000000\n",
       "mean    19.379263   13.919403   68.566695   72.905565   54.659359    7.676239\n",
       "std     33.344379   89.344845   12.893460   18.799561   41.794971    5.570628\n",
       "min    -54.800000 -175.200000   35.080000   11.000000    0.000000    0.000000\n",
       "25%     -8.050000  -66.663100   59.050000   65.000000    7.000000    3.620000\n",
       "50%     21.283300   16.919800   69.930000   78.000000   65.000000    6.150000\n",
       "75%     47.499700   92.750000   78.460000   87.000000  100.000000   10.130000\n",
       "max     78.218600  179.316700   99.460000  100.000000  100.000000   31.070000"
      ]
     },
     "execution_count": 6,
     "metadata": {},
     "output_type": "execute_result"
    }
   ],
   "source": [
    "weather_df.describe()"
   ]
  },
  {
   "cell_type": "code",
   "execution_count": null,
   "metadata": {},
   "outputs": [],
   "source": [
    "#  Get the indices of cities that have humidity over 100%.\n",
    "# There were no cities over 100%"
   ]
  },
  {
   "cell_type": "code",
   "execution_count": 7,
   "metadata": {},
   "outputs": [
    {
     "data": {
      "text/html": [
       "<div>\n",
       "<style scoped>\n",
       "    .dataframe tbody tr th:only-of-type {\n",
       "        vertical-align: middle;\n",
       "    }\n",
       "\n",
       "    .dataframe tbody tr th {\n",
       "        vertical-align: top;\n",
       "    }\n",
       "\n",
       "    .dataframe thead th {\n",
       "        text-align: right;\n",
       "    }\n",
       "</style>\n",
       "<table border=\"1\" class=\"dataframe\">\n",
       "  <thead>\n",
       "    <tr style=\"text-align: right;\">\n",
       "      <th></th>\n",
       "      <th>City</th>\n",
       "      <th>Lat</th>\n",
       "      <th>Lon</th>\n",
       "      <th>Max Temp</th>\n",
       "      <th>Humidity</th>\n",
       "      <th>Cloudiness</th>\n",
       "      <th>Wind Speed</th>\n",
       "      <th>Country</th>\n",
       "      <th>Date</th>\n",
       "    </tr>\n",
       "  </thead>\n",
       "  <tbody>\n",
       "    <tr>\n",
       "      <th>0</th>\n",
       "      <td>jamestown</td>\n",
       "      <td>42.0970</td>\n",
       "      <td>-79.2353</td>\n",
       "      <td>63.99</td>\n",
       "      <td>47</td>\n",
       "      <td>83</td>\n",
       "      <td>2.91</td>\n",
       "      <td>US</td>\n",
       "      <td>2022-08-10</td>\n",
       "    </tr>\n",
       "    <tr>\n",
       "      <th>1</th>\n",
       "      <td>bluff</td>\n",
       "      <td>-46.6000</td>\n",
       "      <td>168.3333</td>\n",
       "      <td>44.80</td>\n",
       "      <td>57</td>\n",
       "      <td>8</td>\n",
       "      <td>10.22</td>\n",
       "      <td>NZ</td>\n",
       "      <td>2022-08-10</td>\n",
       "    </tr>\n",
       "    <tr>\n",
       "      <th>2</th>\n",
       "      <td>busselton</td>\n",
       "      <td>-33.6500</td>\n",
       "      <td>115.3333</td>\n",
       "      <td>55.62</td>\n",
       "      <td>75</td>\n",
       "      <td>89</td>\n",
       "      <td>3.62</td>\n",
       "      <td>AU</td>\n",
       "      <td>2022-08-10</td>\n",
       "    </tr>\n",
       "    <tr>\n",
       "      <th>3</th>\n",
       "      <td>vaini</td>\n",
       "      <td>-21.2000</td>\n",
       "      <td>-175.2000</td>\n",
       "      <td>80.76</td>\n",
       "      <td>89</td>\n",
       "      <td>75</td>\n",
       "      <td>17.27</td>\n",
       "      <td>TO</td>\n",
       "      <td>2022-08-10</td>\n",
       "    </tr>\n",
       "    <tr>\n",
       "      <th>4</th>\n",
       "      <td>rikitea</td>\n",
       "      <td>-23.1203</td>\n",
       "      <td>-134.9692</td>\n",
       "      <td>73.24</td>\n",
       "      <td>73</td>\n",
       "      <td>100</td>\n",
       "      <td>22.44</td>\n",
       "      <td>PF</td>\n",
       "      <td>2022-08-10</td>\n",
       "    </tr>\n",
       "  </tbody>\n",
       "</table>\n",
       "</div>"
      ],
      "text/plain": [
       "        City      Lat       Lon  Max Temp  Humidity  Cloudiness  Wind Speed  \\\n",
       "0  jamestown  42.0970  -79.2353     63.99        47          83        2.91   \n",
       "1      bluff -46.6000  168.3333     44.80        57           8       10.22   \n",
       "2  busselton -33.6500  115.3333     55.62        75          89        3.62   \n",
       "3      vaini -21.2000 -175.2000     80.76        89          75       17.27   \n",
       "4    rikitea -23.1203 -134.9692     73.24        73         100       22.44   \n",
       "\n",
       "  Country        Date  \n",
       "0      US  2022-08-10  \n",
       "1      NZ  2022-08-10  \n",
       "2      AU  2022-08-10  \n",
       "3      TO  2022-08-10  \n",
       "4      PF  2022-08-10  "
      ]
     },
     "execution_count": 7,
     "metadata": {},
     "output_type": "execute_result"
    }
   ],
   "source": [
    "# Make a new DataFrame equal to the city data to drop all humidity outliers by index.\n",
    "# Passing \"inplace=False\" will make a copy of the city_data DataFrame, which we call \"clean_city_data\".\n",
    "clean_city_data = weather_df.loc[weather_df['Humidity'] <= 100]\n",
    "clean_city_data.head()"
   ]
  },
  {
   "cell_type": "markdown",
   "metadata": {},
   "source": [
    "## Plotting the Data\n",
    "* Use proper labeling of the plots using plot titles (including date of analysis) and axes labels.\n",
    "* Save the plotted figures as .pngs."
   ]
  },
  {
   "cell_type": "markdown",
   "metadata": {},
   "source": [
    "## Latitude vs. Temperature Plot"
   ]
  },
  {
   "cell_type": "code",
   "execution_count": 8,
   "metadata": {
    "scrolled": true
   },
   "outputs": [
    {
     "data": {
      "image/png": "[encoded data removed]",
      "text/plain": [
       "<Figure size 432x288 with 1 Axes>"
      ]
     },
     "metadata": {
      "needs_background": "light"
     },
     "output_type": "display_data"
    }
   ],
   "source": [
    "plt.scatter(lat, temp, marker=\"o\", facecolors=\"green\" )\n",
    "\n",
    "# add labels and display as a grid\n",
    "plt.title(\"Latitude vs Temperature\", fontsize=14, weight='bold')\n",
    "plt.xlabel(\"Latitude\", fontsize=10)\n",
    "plt.ylabel(\"Temperature(F)\", fontsize=10)\n",
    "plt.grid()\n",
    "plt.savefig(\"../python-api-challenge/output/images/lat_vs_temp.png\")\n",
    "plt.show()"
   ]
  },
  {
   "cell_type": "markdown",
   "metadata": {},
   "source": [
    "### The closer you are to the equator (0), the greater the likelihood of a higher temperature."
   ]
  },
  {
   "cell_type": "markdown",
   "metadata": {},
   "source": [
    "## Latitude vs. Humidity Plot"
   ]
  },
  {
   "cell_type": "code",
   "execution_count": 9,
   "metadata": {},
   "outputs": [
    {
     "data": {
      "image/png": "[encoded data removed]",
      "text/plain": [
       "<Figure size 432x288 with 1 Axes>"
      ]
     },
     "metadata": {
      "needs_background": "light"
     },
     "output_type": "display_data"
    }
   ],
   "source": [
    "plt.scatter(lon, humidity, marker=\"o\", facecolors=\"blue\" )\n",
    "\n",
    "# add labels and display as a grid\n",
    "plt.title(\"Longitude vs Humidity\", fontsize=14, weight='bold')\n",
    "plt.xlabel(\"Longitude\", fontsize=10)\n",
    "plt.ylabel(\"Humidity\", fontsize=10)\n",
    "plt.grid()\n",
    "plt.savefig(\"../python-api-challenge/output/images/lon_vs_humid.png\")\n",
    "plt.show()"
   ]
  },
  {
   "cell_type": "markdown",
   "metadata": {},
   "source": [
    "### The humidity levels are often more concentrated away from 0"
   ]
  },
  {
   "cell_type": "markdown",
   "metadata": {},
   "source": [
    "## Latitude vs. Cloudiness Plot"
   ]
  },
  {
   "cell_type": "code",
   "execution_count": 10,
   "metadata": {},
   "outputs": [
    {
     "data": {
      "image/png": "[encoded data removed]",
      "text/plain": [
       "<Figure size 432x288 with 1 Axes>"
      ]
     },
     "metadata": {
      "needs_background": "light"
     },
     "output_type": "display_data"
    }
   ],
   "source": [
    "plt.scatter(lat, cloudiness, marker=\"o\", facecolors=\"dodgerblue\", edgecolor='black' )\n",
    "\n",
    "# add labels and display as a grid\n",
    "plt.title(\"Latitude vs Cloudiness\", fontsize=14, weight='bold')\n",
    "plt.xlabel(\"Latitude\", fontsize=10)\n",
    "plt.ylabel(\"Cloudiness\", fontsize=10)\n",
    "plt.grid()\n",
    "plt.savefig(\"../python-api-challenge/output/images/lat_vs_cloud.png\")\n",
    "plt.show()"
   ]
  },
  {
   "cell_type": "markdown",
   "metadata": {},
   "source": [
    "### The sun is always shining near the equator."
   ]
  },
  {
   "cell_type": "markdown",
   "metadata": {},
   "source": [
    "## Latitude vs. Wind Speed Plot"
   ]
  },
  {
   "cell_type": "code",
   "execution_count": 11,
   "metadata": {},
   "outputs": [
    {
     "data": {
      "image/png": "[encoded data removed]",
      "text/plain": [
       "<Figure size 432x288 with 1 Axes>"
      ]
     },
     "metadata": {
      "needs_background": "light"
     },
     "output_type": "display_data"
    }
   ],
   "source": [
    "plt.scatter(lat, wind_speed, marker=\"o\", facecolors=\"orange\" )\n",
    "\n",
    "# add labels and display as a grid\n",
    "plt.title(\"Latitude vs Wind Speed\", fontsize=14, weight='bold')\n",
    "plt.xlabel(\"Latitude\", fontsize=10)\n",
    "plt.ylabel(\"Wind Speed (mph)\", fontsize=10)\n",
    "plt.grid()\n",
    "plt.savefig(\"../python-api-challenge/output/images/lat_vs_wind.png\")\n",
    "plt.show()"
   ]
  },
  {
   "cell_type": "markdown",
   "metadata": {},
   "source": [
    "### Wind speed is concentrated between 0 mph and 10 mph. There are some fliers farther away from the equator."
   ]
  },
  {
   "cell_type": "markdown",
   "metadata": {},
   "source": [
    "## Linear Regression"
   ]
  },
  {
   "cell_type": "markdown",
   "metadata": {},
   "source": [
    "####  Northern Hemisphere - Max Temp vs. Latitude Linear Regression"
   ]
  },
  {
   "cell_type": "code",
   "execution_count": 12,
   "metadata": {},
   "outputs": [
    {
     "name": "stdout",
     "output_type": "stream",
     "text": [
      "The r-squared is: 0.47493718518836725\n"
     ]
    },
    {
     "data": {
      "image/png": "[encoded data removed]",
      "text/plain": [
       "<Figure size 432x288 with 1 Axes>"
      ]
     },
     "metadata": {
      "needs_background": "light"
     },
     "output_type": "display_data"
    }
   ],
   "source": [
    "northern_hemisphere = clean_city_data.loc[clean_city_data['Lat'] >0 ]\n",
    "\n",
    "# Call variables for comparison\n",
    "x_values = northern_hemisphere['Lat']\n",
    "y_values = northern_hemisphere['Max Temp']\n",
    "\n",
    "(slope, intercept, rvalue, pvalue, stderr) = linregress(x_values, y_values)\n",
    "regress_values = x_values * slope + intercept\n",
    "line_eq = \"y = \" + str(round(slope,2)) + \"x + \" + str(round(intercept,2))\n",
    "plt.scatter(x_values, y_values)\n",
    "plt.plot(x_values, regress_values, \"r-\")\n",
    "plt.annotate(line_eq,(5.0,40), fontsize=10, color=\"red\")\n",
    "plt.xlabel(\"Latitude\")\n",
    "plt.ylabel(\"Max Temp(F)\")\n",
    "print(f\"The r-squared is: {rvalue**2}\")\n",
    "plt.show()"
   ]
  },
  {
   "cell_type": "markdown",
   "metadata": {},
   "source": [
    "####  Southern Hemisphere - Max Temp vs. Latitude Linear Regression"
   ]
  },
  {
   "cell_type": "code",
   "execution_count": 13,
   "metadata": {},
   "outputs": [
    {
     "name": "stdout",
     "output_type": "stream",
     "text": [
      "The r-squared is: 0.6444580937981323\n"
     ]
    },
    {
     "data": {
      "image/png": "[encoded data removed]",
      "text/plain": [
       "<Figure size 432x288 with 1 Axes>"
      ]
     },
     "metadata": {
      "needs_background": "light"
     },
     "output_type": "display_data"
    }
   ],
   "source": [
    "southern_hemisphere = clean_city_data.loc[clean_city_data['Lat'] <0 ]\n",
    "\n",
    "# Call variables for comparison\n",
    "x_values = southern_hemisphere['Lat']\n",
    "y_values = southern_hemisphere['Max Temp']\n",
    "\n",
    "(slope, intercept, rvalue, pvalue, stderr) = linregress(x_values, y_values)\n",
    "regress_values = x_values * slope + intercept\n",
    "line_eq = \"y = \" + str(round(slope,2)) + \"x + \" + str(round(intercept,2))\n",
    "plt.scatter(x_values, y_values)\n",
    "plt.plot(x_values, regress_values, \"r-\")\n",
    "plt.annotate(line_eq,(-15.0,40), fontsize=10, color=\"red\")\n",
    "plt.xlabel(\"Latitude\")\n",
    "plt.ylabel(\"Max Temp(F)\")\n",
    "print(f\"The r-squared is: {rvalue**2}\")\n",
    "plt.show()"
   ]
  },
  {
   "cell_type": "markdown",
   "metadata": {},
   "source": [
    "####  Northern Hemisphere - Humidity (%) vs. Latitude Linear Regression"
   ]
  },
  {
   "cell_type": "code",
   "execution_count": 14,
   "metadata": {},
   "outputs": [
    {
     "name": "stdout",
     "output_type": "stream",
     "text": [
      "The r-squared is: 0.0039033103708664254\n"
     ]
    },
    {
     "data": {
      "image/png": "[encoded data removed]",
      "text/plain": [
       "<Figure size 432x288 with 1 Axes>"
      ]
     },
     "metadata": {
      "needs_background": "light"
     },
     "output_type": "display_data"
    }
   ],
   "source": [
    "# Call variables for comparison\n",
    "x_values = northern_hemisphere['Lat']\n",
    "y_values = northern_hemisphere['Humidity']\n",
    "\n",
    "(slope, intercept, rvalue, pvalue, stderr) = linregress(x_values, y_values)\n",
    "regress_values = x_values * slope + intercept\n",
    "line_eq = \"y = \" + str(round(slope,2)) + \"x + \" + str(round(intercept,2))\n",
    "plt.scatter(x_values, y_values)\n",
    "plt.plot(x_values, regress_values, \"r-\")\n",
    "plt.annotate(line_eq,(55.0,15), fontsize=10, color=\"red\")\n",
    "plt.xlabel(\"Latitude\")\n",
    "plt.ylabel(\"Humidity\")\n",
    "print(f\"The r-squared is: {rvalue**2}\")\n",
    "plt.show()"
   ]
  },
  {
   "cell_type": "markdown",
   "metadata": {},
   "source": [
    "####  Southern Hemisphere - Humidity (%) vs. Latitude Linear Regression"
   ]
  },
  {
   "cell_type": "code",
   "execution_count": 26,
   "metadata": {},
   "outputs": [
    {
     "name": "stdout",
     "output_type": "stream",
     "text": [
      "The r-squared is: 0.00491416239528444\n"
     ]
    },
    {
     "data": {
      "image/png": "[encoded data removed]",
      "text/plain": [
       "<Figure size 432x288 with 1 Axes>"
      ]
     },
     "metadata": {
      "needs_background": "light"
     },
     "output_type": "display_data"
    }
   ],
   "source": [
    "x_values = southern_hemisphere['Lat']\n",
    "y_values = southern_hemisphere['Humidity']\n",
    "\n",
    "(slope, intercept, rvalue, pvalue, stderr) = linregress(x_values, y_values)\n",
    "regress_values = x_values * slope + intercept\n",
    "line_eq = \"y = \" + str(round(slope,2)) + \"x + \" + str(round(intercept,2))\n",
    "plt.scatter(x_values, y_values)\n",
    "plt.plot(x_values, regress_values, \"r-\")\n",
    "plt.annotate(line_eq,(-55.0,20), fontsize=10, color=\"red\")\n",
    "plt.xlabel(\"Latitude\")\n",
    "plt.ylabel(\"Humidity\")\n",
    "print(f\"The r-squared is: {rvalue**2}\")\n",
    "plt.show()"
   ]
  },
  {
   "cell_type": "markdown",
   "metadata": {},
   "source": [
    "####  Northern Hemisphere - Cloudiness (%) vs. Latitude Linear Regression"
   ]
  },
  {
   "cell_type": "code",
   "execution_count": 27,
   "metadata": {},
   "outputs": [
    {
     "name": "stdout",
     "output_type": "stream",
     "text": [
      "The r-squared is: 0.00016350280625670319\n"
     ]
    },
    {
     "data": {
      "image/png": "[encoded data removed]",
      "text/plain": [
       "<Figure size 432x288 with 1 Axes>"
      ]
     },
     "metadata": {
      "needs_background": "light"
     },
     "output_type": "display_data"
    }
   ],
   "source": [
    "# Call variables for comparison\n",
    "x_values = northern_hemisphere['Lat']\n",
    "y_values = northern_hemisphere['Cloudiness']\n",
    "\n",
    "(slope, intercept, rvalue, pvalue, stderr) = linregress(x_values, y_values)\n",
    "regress_values = x_values * slope + intercept\n",
    "line_eq = \"y = \" + str(round(slope,2)) + \"x + \" + str(round(intercept,2))\n",
    "plt.scatter(x_values, y_values)\n",
    "plt.plot(x_values, regress_values, \"r-\")\n",
    "plt.annotate(line_eq,(55.0,10), fontsize=10, color=\"red\")\n",
    "plt.xlabel(\"Latitude\")\n",
    "plt.ylabel(\"Cloudiness\")\n",
    "print(f\"The r-squared is: {rvalue**2}\")\n",
    "plt.show()"
   ]
  },
  {
   "cell_type": "markdown",
   "metadata": {},
   "source": [
    "####  Southern Hemisphere - Cloudiness (%) vs. Latitude Linear Regression"
   ]
  },
  {
   "cell_type": "code",
   "execution_count": 28,
   "metadata": {},
   "outputs": [
    {
     "name": "stdout",
     "output_type": "stream",
     "text": [
      "The r-squared is: 0.0012181285373868797\n"
     ]
    },
    {
     "data": {
      "image/png": "[encoded data removed]",
      "text/plain": [
       "<Figure size 432x288 with 1 Axes>"
      ]
     },
     "metadata": {
      "needs_background": "light"
     },
     "output_type": "display_data"
    }
   ],
   "source": [
    "# Call variables for comparison\n",
    "x_values = southern_hemisphere['Lat']\n",
    "y_values = southern_hemisphere['Cloudiness']\n",
    "\n",
    "(slope, intercept, rvalue, pvalue, stderr) = linregress(x_values, y_values)\n",
    "regress_values = x_values * slope + intercept\n",
    "line_eq = \"y = \" + str(round(slope,2)) + \"x + \" + str(round(intercept,2))\n",
    "plt.scatter(x_values, y_values)\n",
    "plt.plot(x_values, regress_values, \"r-\")\n",
    "plt.annotate(line_eq,(-55.0,10), fontsize=10, color=\"red\")\n",
    "plt.xlabel(\"Latitude\")\n",
    "plt.ylabel(\"Cloudiness\")\n",
    "print(f\"The r-squared is: {rvalue**2}\")\n",
    "plt.show()"
   ]
  },
  {
   "cell_type": "markdown",
   "metadata": {},
   "source": [
    "####  Northern Hemisphere - Wind Speed (mph) vs. Latitude Linear Regression"
   ]
  },
  {
   "cell_type": "code",
   "execution_count": 29,
   "metadata": {},
   "outputs": [
    {
     "name": "stdout",
     "output_type": "stream",
     "text": [
      "The r-squared is: 0.00039653066234992174\n"
     ]
    },
    {
     "data": {
      "image/png": "[encoded data removed]",
      "text/plain": [
       "<Figure size 432x288 with 1 Axes>"
      ]
     },
     "metadata": {
      "needs_background": "light"
     },
     "output_type": "display_data"
    }
   ],
   "source": [
    "x_values = northern_hemisphere['Lat']\n",
    "y_values = northern_hemisphere['Wind Speed']\n",
    "\n",
    "(slope, intercept, rvalue, pvalue, stderr) = linregress(x_values, y_values)\n",
    "regress_values = x_values * slope + intercept\n",
    "line_eq = \"y = \" + str(round(slope,2)) + \"x + \" + str(round(intercept,2))\n",
    "plt.scatter(x_values, y_values)\n",
    "plt.plot(x_values, regress_values, \"r-\")\n",
    "plt.annotate(line_eq,(25.0,30), fontsize=10, color=\"red\")\n",
    "plt.xlabel(\"Latitude\")\n",
    "plt.ylabel(\"Wind Speed\")\n",
    "print(f\"The r-squared is: {rvalue**2}\")\n",
    "plt.show()"
   ]
  },
  {
   "cell_type": "markdown",
   "metadata": {},
   "source": [
    "####  Southern Hemisphere - Wind Speed (mph) vs. Latitude Linear Regression"
   ]
  },
  {
   "cell_type": "code",
   "execution_count": 30,
   "metadata": {},
   "outputs": [
    {
     "name": "stdout",
     "output_type": "stream",
     "text": [
      "The r-squared is: 0.020349292816411478\n"
     ]
    },
    {
     "data": {
      "image/png": "[encoded data removed]",
      "text/plain": [
       "<Figure size 432x288 with 1 Axes>"
      ]
     },
     "metadata": {
      "needs_background": "light"
     },
     "output_type": "display_data"
    }
   ],
   "source": [
    "x_values = southern_hemisphere['Lat']\n",
    "y_values = southern_hemisphere['Wind Speed']\n",
    "\n",
    "(slope, intercept, rvalue, pvalue, stderr) = linregress(x_values, y_values)\n",
    "regress_values = x_values * slope + intercept\n",
    "line_eq = \"y = \" + str(round(slope,2)) + \"x + \" + str(round(intercept,2))\n",
    "plt.scatter(x_values, y_values)\n",
    "plt.plot(x_values, regress_values, \"r-\")\n",
    "plt.annotate(line_eq,(-55.0,27), fontsize=10, color=\"red\")\n",
    "plt.xlabel(\"Latitude\")\n",
    "plt.ylabel(\"Wind Speed\")\n",
    "print(f\"The r-squared is: {rvalue**2}\")\n",
    "plt.show()"
   ]
  }
 ],
 "metadata": {
  "anaconda-cloud": {},
  "kernel_info": {
   "name": "python3"
  },
  "kernelspec": {
   "display_name": "Python 3.8.13 ('Python38')",
   "language": "python",
   "name": "python3"
  },
  "language_info": {
   "codemirror_mode": {
    "name": "ipython",
    "version": 3
   },
   "file_extension": ".py",
   "mimetype": "text/x-python",
   "name": "python",
   "nbconvert_exporter": "python",
   "pygments_lexer": "ipython3",
   "version": "3.8.13"
  },
  "latex_envs": {
   "LaTeX_envs_menu_present": true,
   "autoclose": false,
   "autocomplete": true,
   "bibliofile": "biblio.bib",
   "cite_by": "apalike",
   "current_citInitial": 1,
   "eqLabelWithNumbers": true,
   "eqNumInitial": 1,
   "hotkeys": {
    "equation": "Ctrl-E",
    "itemize": "Ctrl-I"
   },
   "labels_anchors": false,
   "latex_user_defs": false,
   "report_style_numbering": false,
   "user_envs_cfg": false
  },
  "nteract": {
   "version": "0.12.3"
  },
  "vscode": {
   "interpreter": {
    "hash": "7113e3970f98a4d04de61aad7e2a4e99472b30f3b9a9e79f0555aab5ccdb8ff2"
   }
  }
 },
 "nbformat": 4,
 "nbformat_minor": 2
}
