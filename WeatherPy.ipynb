{
 "cells": [
  {
   "cell_type": "markdown",
   "metadata": {},
   "source": [
    "# WeatherPy\n",
    "----\n",
    "\n",
    "#### Note\n",
    "* Instructions have been included for each segment. You do not have to follow them exactly, but they are included to help you think through the steps."
   ]
  },
  {
   "cell_type": "code",
   "execution_count": 48,
   "metadata": {
    "scrolled": true
   },
   "outputs": [],
   "source": [
    "# Dependencies and Setup\n",
    "import matplotlib.pyplot as plt\n",
    "import pandas as pd\n",
    "import numpy as np\n",
    "import requests\n",
    "import time\n",
    "from scipy.stats import linregress\n",
    "import datetime as dt\n",
    "\n",
    "# Import API key\n",
    "from api_keys import weather_api_key\n",
    "\n",
    "# Incorporated citipy to determine city based on latitude and longitude\n",
    "from citipy import citipy\n",
    "\n",
    "# Output File (CSV)\n",
    "output_data_file = \"output_data/cities.csv\"\n",
    "\n",
    "# Range of latitudes and longitudes\n",
    "lat_range = (-90, 90)\n",
    "lng_range = (-180, 180)\n"
   ]
  },
  {
   "cell_type": "markdown",
   "metadata": {},
   "source": [
    "## Generate Cities List"
   ]
  },
  {
   "cell_type": "code",
   "execution_count": 38,
   "metadata": {},
   "outputs": [
    {
     "data": {
      "text/plain": [
       "604"
      ]
     },
     "execution_count": 38,
     "metadata": {},
     "output_type": "execute_result"
    }
   ],
   "source": [
    "# List for holding lat_lngs and cities\n",
    "lat_lngs = []\n",
    "cities = []\n",
    "\n",
    "# Create a set of random lat and lng combinations\n",
    "lats = np.random.uniform(lat_range[0], lat_range[1], size=1500)\n",
    "lngs = np.random.uniform(lng_range[0], lng_range[1], size=1500)\n",
    "lat_lngs = zip(lats, lngs)\n",
    "\n",
    "# Identify nearest city for each lat, lng combination\n",
    "for lat_lng in lat_lngs:\n",
    "    city = citipy.nearest_city(lat_lng[0], lat_lng[1]).city_name\n",
    "    \n",
    "    # If the city is unique, then add it to a our cities list\n",
    "    if city not in cities:\n",
    "        cities.append(city)\n",
    "\n",
    "# Print the city count to confirm sufficient count\n",
    "len(cities)\n",
    "#print(cities)\n",
    "\n"
   ]
  },
  {
   "cell_type": "markdown",
   "metadata": {},
   "source": [
    "### Perform API Calls\n",
    "* Perform a weather check on each city using a series of successive API calls.\n",
    "* Include a print log of each city as it'sbeing processed (with the city number and city name).\n"
   ]
  },
  {
   "cell_type": "code",
   "execution_count": 39,
   "metadata": {
    "scrolled": true
   },
   "outputs": [
    {
     "name": "stdout",
     "output_type": "stream",
     "text": [
      "Processing record: busselton\n",
      "Processing record: roald\n",
      "Processing record: coos bay\n",
      "Processing record: cherskiy\n",
      "Processing record: atuona\n",
      "Processing record: georgetown\n",
      "Processing record: esperance\n",
      "Processing record: nemuro\n",
      "Processing record: nehe\n",
      "Processing record: ushuaia\n",
      "Processing record: hermanus\n",
      "Processing record: ponta do sol\n",
      "Processing record: butaritari\n",
      "Processing record: cidreira\n",
      "Processing record: port keats\n",
      "Processing record: badou\n",
      "Processing record: soyo\n",
      "Processing record: rikitea\n",
      "City not found: illoqqortoormiut\n",
      "Processing record: mataura\n",
      "Processing record: mahebourg\n",
      "Processing record: yulara\n",
      "Processing record: vasyurinskaya\n",
      "Processing record: muros\n",
      "Processing record: taltal\n",
      "Processing record: pisco\n",
      "Processing record: marsh harbour\n",
      "Processing record: kavieng\n",
      "Processing record: hilo\n",
      "Processing record: west fargo\n",
      "Processing record: avarua\n",
      "Processing record: richards bay\n",
      "Processing record: kapit\n",
      "Processing record: victoria\n",
      "Processing record: farafangana\n",
      "Processing record: barrow\n",
      "Processing record: cape town\n",
      "Processing record: wahpeton\n",
      "Processing record: port alfred\n",
      "Processing record: batticaloa\n",
      "Processing record: mount isa\n",
      "Processing record: bengkulu\n",
      "Processing record: longyearbyen\n",
      "Processing record: jamestown\n",
      "Processing record: marathon\n",
      "Processing record: merauke\n",
      "Processing record: inirida\n",
      "City not found: tungkang\n",
      "Processing record: luderitz\n",
      "Processing record: nouadhibou\n",
      "Processing record: ginir\n",
      "Processing record: vostok\n",
      "Processing record: kapaa\n",
      "Processing record: punta arenas\n",
      "City not found: sumbawa\n",
      "Processing record: seoul\n",
      "Processing record: chegutu\n",
      "Processing record: jumla\n",
      "Processing record: gombong\n",
      "Processing record: saskylakh\n",
      "Processing record: albany\n",
      "Processing record: lorengau\n",
      "Processing record: buchanan\n",
      "Processing record: santa maria\n",
      "Processing record: westport\n",
      "Processing record: grand gaube\n",
      "Processing record: gat\n",
      "Processing record: hovd\n",
      "Processing record: east london\n",
      "City not found: sentyabrskiy\n",
      "Processing record: kaitangata\n",
      "Processing record: andapa\n",
      "Processing record: tuktoyaktuk\n",
      "Processing record: calabozo\n",
      "Processing record: alta floresta\n",
      "Processing record: thompson\n",
      "Processing record: port elizabeth\n",
      "Processing record: coihaique\n",
      "Processing record: hobart\n",
      "Processing record: ngunguru\n",
      "Processing record: shelburne\n",
      "Processing record: ust-nera\n",
      "Processing record: santo antonio do ica\n",
      "Processing record: ribeira grande\n",
      "Processing record: araouane\n",
      "Processing record: saint-francois\n",
      "Processing record: portugalete\n",
      "Processing record: granby\n",
      "Processing record: bethel\n",
      "City not found: attawapiskat\n",
      "Processing record: rawson\n",
      "Processing record: olafsvik\n",
      "Processing record: vaini\n",
      "Processing record: vaitape\n",
      "Processing record: bluff\n",
      "Processing record: batagay-alyta\n",
      "City not found: barentsburg\n",
      "Processing record: tasiilaq\n",
      "Processing record: hemnesberget\n",
      "Processing record: narsaq\n",
      "Processing record: kahului\n",
      "Processing record: buala\n",
      "Processing record: arraial do cabo\n",
      "Processing record: tommot\n",
      "Processing record: torbay\n",
      "Processing record: carnarvon\n",
      "City not found: lolua\n",
      "Processing record: la garriga\n",
      "Processing record: karlstad\n",
      "Processing record: landeck\n",
      "City not found: satitoa\n",
      "Processing record: ovar\n",
      "Processing record: sao joao da barra\n",
      "Processing record: tiarei\n",
      "Processing record: pandharpur\n",
      "Processing record: adrar\n",
      "Processing record: sao filipe\n",
      "Processing record: naze\n",
      "Processing record: malanje\n",
      "City not found: chagda\n",
      "Processing record: leningradskiy\n",
      "Processing record: gulu\n",
      "Processing record: salalah\n",
      "City not found: belushya guba\n",
      "Processing record: qaanaaq\n",
      "Processing record: morant bay\n",
      "Processing record: khatanga\n",
      "Processing record: antofagasta\n",
      "Processing record: arman\n",
      "Processing record: chokurdakh\n",
      "Processing record: dzilam gonzalez\n",
      "Processing record: new norfolk\n",
      "Processing record: iqaluit\n",
      "Processing record: kismayo\n",
      "Processing record: margate\n",
      "Processing record: poltavka\n",
      "Processing record: codrington\n",
      "Processing record: bilma\n",
      "Processing record: vao\n",
      "Processing record: rianxo\n",
      "Processing record: vila velha\n",
      "Processing record: abha\n",
      "Processing record: felanitx\n",
      "Processing record: road town\n",
      "Processing record: tautira\n",
      "City not found: ust-bolsheretsk\n",
      "Processing record: singaparna\n",
      "Processing record: hubli\n",
      "Processing record: moose factory\n",
      "Processing record: mezen\n",
      "Processing record: komsomolets\n",
      "Processing record: newport\n",
      "Processing record: cabo san lucas\n",
      "Processing record: kruisfontein\n",
      "Processing record: namibe\n",
      "Processing record: saint-joseph\n",
      "City not found: taolanaro\n",
      "Processing record: iberia\n",
      "Processing record: cordoba\n",
      "Processing record: tiznit\n",
      "Processing record: berdigestyakh\n",
      "Processing record: fairbanks\n",
      "Processing record: kabalo\n",
      "Processing record: isangel\n",
      "Processing record: togur\n",
      "Processing record: preston\n",
      "Processing record: talnakh\n",
      "Processing record: kodiak\n",
      "Processing record: jiuquan\n",
      "Processing record: riyadh\n",
      "City not found: umzimvubu\n",
      "Processing record: angoram\n",
      "Processing record: chuy\n",
      "City not found: grand river south east\n",
      "Processing record: parrita\n",
      "Processing record: ancud\n",
      "Processing record: saldanha\n",
      "Processing record: dikson\n",
      "Processing record: santa rosa del sur\n",
      "Processing record: pitimbu\n",
      "Processing record: manzil salim\n",
      "Processing record: whitianga\n",
      "Processing record: tiksi\n",
      "Processing record: yellowknife\n",
      "Processing record: ziro\n",
      "Processing record: tilichiki\n",
      "Processing record: abong mbang\n",
      "Processing record: puerto ayora\n",
      "City not found: vaitupu\n",
      "Processing record: saint-philippe\n",
      "Processing record: gouloure\n",
      "Processing record: beringovskiy\n",
      "Processing record: floro\n",
      "Processing record: zhicheng\n",
      "Processing record: pevek\n",
      "Processing record: champua\n",
      "Processing record: tecoanapa\n",
      "Processing record: faya\n",
      "Processing record: mikhaylovka\n",
      "Processing record: hornepayne\n",
      "Processing record: hithadhoo\n",
      "Processing record: san patricio\n",
      "Processing record: buin\n",
      "Processing record: antalaha\n",
      "Processing record: akureyri\n",
      "Processing record: zhezkazgan\n",
      "Processing record: hambantota\n",
      "Processing record: santa cruz\n",
      "Processing record: zhangjiakou\n",
      "Processing record: abu dhabi\n",
      "Processing record: wukari\n",
      "Processing record: manakara\n",
      "Processing record: broome\n",
      "Processing record: bilibino\n",
      "City not found: landang\n",
      "Processing record: clyde river\n",
      "Processing record: at-bashi\n",
      "Processing record: mehamn\n",
      "Processing record: kuusamo\n",
      "Processing record: belmonte\n",
      "Processing record: esso\n",
      "Processing record: cap malheureux\n",
      "Processing record: dudinka\n",
      "City not found: zouxian\n",
      "Processing record: xai-xai\n",
      "Processing record: boa vista\n",
      "Processing record: puranpur\n",
      "Processing record: bredasdorp\n",
      "Processing record: meadow lake\n",
      "City not found: karamea\n",
      "Processing record: pacific grove\n",
      "Processing record: sorland\n",
      "Processing record: lebu\n",
      "Processing record: ilulissat\n",
      "Processing record: igarka\n",
      "Processing record: tabou\n",
      "Processing record: cayenne\n",
      "Processing record: vila franca do campo\n",
      "Processing record: geraldton\n",
      "Processing record: okhotsk\n",
      "Processing record: reconquista\n",
      "Processing record: wajima\n",
      "Processing record: meulaboh\n",
      "Processing record: roebourne\n",
      "Processing record: fortuna\n",
      "Processing record: chingirlau\n",
      "Processing record: jibuti\n",
      "Processing record: provideniya\n",
      "City not found: kamenskoye\n",
      "Processing record: surat thani\n",
      "Processing record: pacifica\n",
      "Processing record: tuatapere\n",
      "Processing record: mar del plata\n",
      "Processing record: port augusta\n",
      "Processing record: kenora\n",
      "Processing record: sampit\n",
      "Processing record: atar\n",
      "Processing record: tingo maria\n",
      "Processing record: itoman\n",
      "Processing record: srednekolymsk\n",
      "Processing record: lucknow\n",
      "Processing record: banda aceh\n",
      "Processing record: sandnessjoen\n",
      "City not found: tsihombe\n",
      "Processing record: kununurra\n",
      "Processing record: katsuura\n",
      "City not found: saleaula\n",
      "Processing record: iquique\n",
      "Processing record: mitsamiouli\n",
      "Processing record: chiang khong\n",
      "Processing record: te anau\n",
      "Processing record: lagoa\n",
      "Processing record: bure\n",
      "Processing record: rumoi\n",
      "Processing record: jalu\n",
      "Processing record: naryan-mar\n",
      "Processing record: tanuku\n",
      "Processing record: petropavlovsk-kamchatskiy\n",
      "Processing record: sinnamary\n",
      "Processing record: poum\n",
      "Processing record: satipo\n",
      "Processing record: port moresby\n",
      "Processing record: yinchuan\n",
      "Processing record: bambous virieux\n",
      "Processing record: bouza\n",
      "Processing record: castro\n",
      "Processing record: sembe\n",
      "Processing record: mangan\n",
      "Processing record: ellisras\n",
      "Processing record: caravelas\n",
      "Processing record: axim\n",
      "Processing record: viedma\n",
      "Processing record: bom despacho\n",
      "Processing record: necochea\n",
      "Processing record: kibaya\n",
      "Processing record: termiz\n",
      "Processing record: vestmannaeyjar\n",
      "Processing record: tarauaca\n",
      "Processing record: severo-kurilsk\n",
      "Processing record: dvinskoy\n",
      "Processing record: praia da vitoria\n",
      "Processing record: paamiut\n",
      "Processing record: pedernales\n",
      "Processing record: hamilton\n",
      "Processing record: coquimbo\n",
      "Processing record: aginskoye\n",
      "Processing record: port-cartier\n",
      "Processing record: ixtapa\n",
      "Processing record: lompoc\n",
      "Processing record: byron bay\n",
      "Processing record: nizwa\n",
      "Processing record: qeshm\n",
      "Processing record: bambanglipuro\n",
      "Processing record: fairfield\n",
      "Processing record: dingle\n",
      "Processing record: maningrida\n",
      "Processing record: moindou\n",
      "Processing record: lakhimpur\n",
      "Processing record: hervey bay\n",
      "Processing record: bonavista\n",
      "Processing record: rafaela\n",
      "Processing record: erenhot\n",
      "City not found: marcona\n",
      "Processing record: northallerton\n",
      "Processing record: hay river\n",
      "Processing record: godfrey\n",
      "Processing record: upernavik\n",
      "City not found: sorvag\n",
      "Processing record: kysyl-syr\n",
      "Processing record: sierra vista\n",
      "Processing record: dongsheng\n",
      "City not found: bolshoye sorokino\n",
      "Processing record: souillac\n",
      "Processing record: pokrovsk\n",
      "Processing record: drumheller\n",
      "City not found: bolshaya chernigovka\n",
      "Processing record: whitehorse\n",
      "Processing record: san pedro de uraba\n",
      "Processing record: rocafuerte\n",
      "Processing record: manggar\n",
      "Processing record: huarmey\n",
      "Processing record: alofi\n",
      "City not found: sofiysk\n",
      "Processing record: boden\n",
      "Processing record: aasiaat\n",
      "Processing record: abapo\n",
      "Processing record: rorvik\n",
      "Processing record: port macquarie\n",
      "Processing record: waldorf\n",
      "Processing record: saint george\n",
      "Processing record: norman wells\n",
      "Processing record: alanya\n",
      "Processing record: bathsheba\n",
      "Processing record: quelimane\n",
      "Processing record: auki\n",
      "Processing record: guerrero negro\n",
      "Processing record: rudsar\n",
      "Processing record: comandau\n",
      "Processing record: komsomolskiy\n",
      "Processing record: nanortalik\n",
      "Processing record: maceio\n",
      "Processing record: jiayuguan\n",
      "Processing record: ahipara\n",
      "Processing record: nuuk\n",
      "Processing record: zarubino\n",
      "Processing record: uravakonda\n",
      "Processing record: leninsk\n",
      "Processing record: matay\n",
      "Processing record: sitka\n",
      "Processing record: grand-santi\n",
      "Processing record: gamba\n",
      "Processing record: grootfontein\n",
      "Processing record: tateyama\n",
      "Processing record: cananea\n",
      "Processing record: talladega\n",
      "Processing record: dharchula\n",
      "City not found: nizhneyansk\n",
      "Processing record: jose de freitas\n",
      "City not found: samusu\n",
      "Processing record: dalvik\n",
      "Processing record: sarahan\n",
      "Processing record: castelo do piaui\n",
      "Processing record: vizinga\n",
      "Processing record: russell\n",
      "Processing record: bagdarin\n",
      "Processing record: boddam\n",
      "Processing record: port lincoln\n",
      "Processing record: dakar\n",
      "Processing record: catio\n",
      "Processing record: bonawon\n",
      "Processing record: garowe\n",
      "Processing record: amos\n",
      "Processing record: miri\n",
      "Processing record: tessalit\n",
      "Processing record: kasempa\n",
      "City not found: amderma\n",
      "Processing record: victor harbor\n",
      "Processing record: tukrah\n",
      "Processing record: pangnirtung\n",
      "Processing record: beloha\n",
      "Processing record: chifeng\n",
      "Processing record: touros\n",
      "Processing record: noumea\n",
      "Processing record: kologriv\n",
      "Processing record: bandarbeyla\n",
      "Processing record: klaksvik\n",
      "Processing record: port-gentil\n",
      "Processing record: camacha\n",
      "Processing record: ojinaga\n",
      "Processing record: athabasca\n",
      "Processing record: bara\n",
      "Processing record: condoto\n",
      "Processing record: bolshaya glushitsa\n",
      "Processing record: oriximina\n",
      "Processing record: susurluk\n",
      "Processing record: smithers\n",
      "Processing record: kropotkin\n",
      "Processing record: altamont\n",
      "Processing record: shingu\n",
      "Processing record: sao felix do xingu\n",
      "Processing record: praia\n",
      "Processing record: yakeshi\n",
      "Processing record: sanmenxia\n",
      "City not found: qibili\n",
      "Processing record: timaru\n",
      "Processing record: moron\n",
      "Processing record: egvekinot\n",
      "Processing record: henties bay\n",
      "Processing record: zlobin\n",
      "Processing record: santarem\n",
      "City not found: mys shmidta\n",
      "Processing record: bolkhov\n",
      "Processing record: hualmay\n",
      "Processing record: constitucion\n",
      "Processing record: union\n",
      "Processing record: along\n",
      "Processing record: tura\n",
      "Processing record: hasaki\n",
      "City not found: bolshegrivskoye\n",
      "Processing record: guaruja\n",
      "Processing record: nioro\n",
      "Processing record: graham\n",
      "Processing record: hua hin\n",
      "City not found: shchelyayur\n",
      "Processing record: santa catarina de tepehuanes\n",
      "Processing record: binga\n",
      "Processing record: madingou\n",
      "Processing record: lavrentiya\n",
      "Processing record: keetmanshoop\n",
      "Processing record: coolum beach\n",
      "Processing record: wuwei\n",
      "Processing record: karratha\n",
      "Processing record: vrede\n",
      "Processing record: severnyy\n",
      "Processing record: sept-iles\n",
      "Processing record: mangrol\n",
      "Processing record: dekar\n",
      "Processing record: sault sainte marie\n",
      "Processing record: aykhal\n",
      "City not found: tabiauea\n",
      "Processing record: mosquera\n",
      "Processing record: dhidhdhoo\n",
      "Processing record: anadyr\n",
      "Processing record: beisfjord\n",
      "Processing record: jinchang\n",
      "Processing record: deputatskiy\n",
      "Processing record: jaguaruana\n",
      "Processing record: tubuala\n",
      "Processing record: lozovik\n",
      "City not found: barawe\n",
      "Processing record: lata\n",
      "City not found: jiddah\n",
      "Processing record: maragogi\n",
      "Processing record: iwanai\n",
      "Processing record: barkly west\n",
      "Processing record: gizo\n",
      "Processing record: akyab\n",
      "Processing record: kattivakkam\n",
      "Processing record: can\n",
      "Processing record: quiniput\n",
      "Processing record: faanui\n",
      "Processing record: peace river\n",
      "Processing record: northam\n",
      "Processing record: prince george\n",
      "Processing record: haljala\n",
      "Processing record: burns lake\n",
      "Processing record: madimba\n",
      "Processing record: saint-georges\n",
      "City not found: tumannyy\n",
      "City not found: artyk\n",
      "Processing record: bereznik\n",
      "Processing record: maracacume\n",
      "Processing record: ruteng\n",
      "Processing record: san jeronimo\n",
      "Processing record: asau\n",
      "Processing record: catamarca\n",
      "City not found: galgani\n",
      "Processing record: namatanai\n",
      "Processing record: tigre\n",
      "Processing record: shizunai\n",
      "Processing record: lokossa\n",
      "Processing record: jieshi\n",
      "Processing record: safonovo\n",
      "Processing record: zhuanghe\n",
      "Processing record: sistranda\n",
      "Processing record: ugep\n",
      "Processing record: chernyshevskiy\n",
      "Processing record: nikolskoye\n",
      "Processing record: maibong\n",
      "Processing record: yar-sale\n",
      "Processing record: tigil\n",
      "Processing record: ketchikan\n",
      "Processing record: san ramon\n",
      "Processing record: tsumeb\n",
      "Processing record: rudbar\n",
      "Processing record: pecos\n",
      "Processing record: pitiquito\n",
      "Processing record: buta\n",
      "Processing record: ananas\n",
      "City not found: opobo\n",
      "Processing record: dunedin\n",
      "City not found: sinkat\n",
      "Processing record: brae\n",
      "Processing record: praya\n",
      "Processing record: itarema\n",
      "Processing record: nelson bay\n",
      "Processing record: zaragoza\n",
      "Processing record: pyapon\n",
      "Processing record: yumen\n",
      "Processing record: cockburn town\n",
      "Processing record: saint anthony\n",
      "Processing record: airai\n",
      "Processing record: port hardy\n",
      "Processing record: haines junction\n",
      "Processing record: lipin bor\n",
      "Processing record: nadym\n",
      "Processing record: nome\n",
      "Processing record: isfana\n",
      "Processing record: padang\n",
      "Processing record: laguna\n",
      "Processing record: harlingen\n",
      "Processing record: bama\n",
      "Processing record: lyuban\n",
      "Processing record: cartagena\n",
      "Processing record: sabang\n",
      "Processing record: khandyga\n",
      "Processing record: hluti\n",
      "Processing record: dankov\n",
      "City not found: mullaitivu\n",
      "Processing record: patterson\n",
      "Processing record: ifakara\n",
      "Processing record: broken hill\n",
      "City not found: cockburn harbour\n",
      "Processing record: zabid\n",
      "Processing record: davila\n",
      "Processing record: omsukchan\n",
      "Processing record: orange cove\n",
      "Processing record: sur\n",
      "Processing record: bubaque\n",
      "Processing record: kurilsk\n",
      "Processing record: husavik\n",
      "Processing record: san rafael del sur\n",
      "Processing record: baijiantan\n",
      "Processing record: pinawa\n",
      "Processing record: chunoyar\n",
      "Processing record: weiser\n",
      "Processing record: cabedelo\n",
      "Processing record: cabo rojo\n",
      "Processing record: ossora\n",
      "City not found: a\n",
      "Processing record: milkovo\n",
      "Processing record: lasa\n",
      "Processing record: zyuzelskiy\n",
      "Processing record: cesvaine\n",
      "Processing record: fort-shevchenko\n",
      "Processing record: rosarito\n",
      "Processing record: half moon bay\n",
      "Processing record: sinazongwe\n",
      "Processing record: belaya gora\n",
      "Processing record: gimli\n",
      "Processing record: rio grande\n",
      "Processing record: hokitika\n",
      "City not found: toliary\n",
      "Processing record: sorong\n",
      "Processing record: waseca\n",
      "Processing record: mombetsu\n",
      "Processing record: itaituba\n",
      "Processing record: ranau\n",
      "City not found: psakhna\n",
      "Processing record: beatrice\n",
      "Processing record: mastic beach\n",
      "Processing record: aktash\n",
      "Processing record: nhulunbuy\n",
      "Processing record: kloulklubed\n",
      "Processing record: san felipe\n",
      "Processing record: singkang\n",
      "Processing record: fayaoue\n",
      "Processing record: nishihara\n",
      "Processing record: bull savanna\n",
      "Processing record: grindavik\n",
      "Processing record: kinablangan\n",
      "Processing record: deniliquin\n",
      "Processing record: aklavik\n",
      "Processing record: chicama\n",
      "Finished\n"
     ]
    }
   ],
   "source": [
    "# Weather from above cited cities\n",
    "base_url = \"https://api.openweathermap.org/data/2.5/weather?\"\n",
    "units = 'imperial'\n",
    "APPID = weather_api_key\n",
    "query_url = f\"{base_url}appid={APPID}&units={units}&q=\"\n",
    "\n",
    "#cities = [\"Minneapolis\", \"Duluth\", \"Mankato\"]\n",
    "\n",
    "# Lists for output\n",
    "lat = []\n",
    "lon = []\n",
    "found_cities = []\n",
    "temp = []\n",
    "humidity = []\n",
    "cloudiness = []\n",
    "wind_speed = []\n",
    "date = []\n",
    "country = []\n",
    "for city in cities:\n",
    "    try:\n",
    "        response = requests.get(query_url + city).json()\n",
    "        lat.append(response['coord']['lat'])\n",
    "        lon.append(response['coord']['lon'])\n",
    "        temp.append(response['main']['temp_max'])\n",
    "        humidity.append(response['main']['humidity'])\n",
    "        cloudiness.append(response['clouds']['all'])\n",
    "        wind_speed.append(response['wind']['speed'])\n",
    "        date.append(response['dt'])\n",
    "        country.append(response['sys']['country'])\n",
    "        date.append(response['dt'])\n",
    "        found_cities.append(city)\n",
    "        print(f\"Processing record: {city}\")\n",
    "    except:\n",
    "        print(f\"City not found: {city}\")\n",
    "print(f\"Finished\")\n"
   ]
  },
  {
   "cell_type": "markdown",
   "metadata": {},
   "source": [
    "### Convert Raw Data to DataFrame\n",
    "* Export the city data into a .csv.\n",
    "* Display the DataFrame"
   ]
  },
  {
   "cell_type": "code",
   "execution_count": 49,
   "metadata": {},
   "outputs": [
    {
     "data": {
      "text/html": [
       "<div>\n",
       "<style scoped>\n",
       "    .dataframe tbody tr th:only-of-type {\n",
       "        vertical-align: middle;\n",
       "    }\n",
       "\n",
       "    .dataframe tbody tr th {\n",
       "        vertical-align: top;\n",
       "    }\n",
       "\n",
       "    .dataframe thead th {\n",
       "        text-align: right;\n",
       "    }\n",
       "</style>\n",
       "<table border=\"1\" class=\"dataframe\">\n",
       "  <thead>\n",
       "    <tr style=\"text-align: right;\">\n",
       "      <th></th>\n",
       "      <th>City</th>\n",
       "      <th>Lat</th>\n",
       "      <th>Lon</th>\n",
       "      <th>Max Temp</th>\n",
       "      <th>Humidity</th>\n",
       "      <th>Cloudiness</th>\n",
       "      <th>Wind Speed</th>\n",
       "      <th>Country</th>\n",
       "      <th>Date</th>\n",
       "    </tr>\n",
       "  </thead>\n",
       "  <tbody>\n",
       "    <tr>\n",
       "      <th>0</th>\n",
       "      <td>busselton</td>\n",
       "      <td>-33.6500</td>\n",
       "      <td>115.3333</td>\n",
       "      <td>51.80</td>\n",
       "      <td>82</td>\n",
       "      <td>53</td>\n",
       "      <td>4.92</td>\n",
       "      <td>AU</td>\n",
       "      <td>2022-08-10</td>\n",
       "    </tr>\n",
       "    <tr>\n",
       "      <th>1</th>\n",
       "      <td>roald</td>\n",
       "      <td>62.5833</td>\n",
       "      <td>6.1333</td>\n",
       "      <td>66.00</td>\n",
       "      <td>94</td>\n",
       "      <td>75</td>\n",
       "      <td>27.63</td>\n",
       "      <td>NO</td>\n",
       "      <td>2022-08-10</td>\n",
       "    </tr>\n",
       "    <tr>\n",
       "      <th>2</th>\n",
       "      <td>coos bay</td>\n",
       "      <td>43.3665</td>\n",
       "      <td>-124.2179</td>\n",
       "      <td>79.32</td>\n",
       "      <td>56</td>\n",
       "      <td>0</td>\n",
       "      <td>9.22</td>\n",
       "      <td>US</td>\n",
       "      <td>2022-08-10</td>\n",
       "    </tr>\n",
       "    <tr>\n",
       "      <th>3</th>\n",
       "      <td>cherskiy</td>\n",
       "      <td>68.7500</td>\n",
       "      <td>161.3000</td>\n",
       "      <td>60.30</td>\n",
       "      <td>65</td>\n",
       "      <td>0</td>\n",
       "      <td>2.86</td>\n",
       "      <td>RU</td>\n",
       "      <td>2022-08-10</td>\n",
       "    </tr>\n",
       "    <tr>\n",
       "      <th>4</th>\n",
       "      <td>atuona</td>\n",
       "      <td>-9.8000</td>\n",
       "      <td>-139.0333</td>\n",
       "      <td>77.32</td>\n",
       "      <td>76</td>\n",
       "      <td>13</td>\n",
       "      <td>22.08</td>\n",
       "      <td>PF</td>\n",
       "      <td>2022-08-10</td>\n",
       "    </tr>\n",
       "  </tbody>\n",
       "</table>\n",
       "</div>"
      ],
      "text/plain": [
       "        City      Lat       Lon  Max Temp  Humidity  Cloudiness  Wind Speed  \\\n",
       "0  busselton -33.6500  115.3333     51.80        82          53        4.92   \n",
       "1      roald  62.5833    6.1333     66.00        94          75       27.63   \n",
       "2   coos bay  43.3665 -124.2179     79.32        56           0        9.22   \n",
       "3   cherskiy  68.7500  161.3000     60.30        65           0        2.86   \n",
       "4     atuona  -9.8000 -139.0333     77.32        76          13       22.08   \n",
       "\n",
       "  Country        Date  \n",
       "0      AU  2022-08-10  \n",
       "1      NO  2022-08-10  \n",
       "2      US  2022-08-10  \n",
       "3      RU  2022-08-10  \n",
       "4      PF  2022-08-10  "
      ]
     },
     "execution_count": 49,
     "metadata": {},
     "output_type": "execute_result"
    }
   ],
   "source": [
    "\n",
    "weather_df = pd.DataFrame({\n",
    "    'City':found_cities, \n",
    "    'Lat':lat,\n",
    "    'Lon':lon,\n",
    "    'Max Temp':temp,\n",
    "    'Humidity':humidity,\n",
    "    'Cloudiness':cloudiness,\n",
    "    'Wind Speed':wind_speed,\n",
    "    'Country':country,\n",
    "    'Date': dt.date.today()\n",
    "    })\n",
    "weather_df.to_csv(\"../python-api-challenge/output/cities.csv\", index=True, index_label='City', header=True)\n",
    "\n",
    "weather_df.head()"
   ]
  },
  {
   "cell_type": "markdown",
   "metadata": {},
   "source": [
    "## Inspect the data and remove the cities where the humidity > 100%.\n",
    "----\n",
    "Skip this step if there are no cities that have humidity > 100%. "
   ]
  },
  {
   "cell_type": "code",
   "execution_count": 43,
   "metadata": {},
   "outputs": [
    {
     "data": {
      "text/html": [
       "<div>\n",
       "<style scoped>\n",
       "    .dataframe tbody tr th:only-of-type {\n",
       "        vertical-align: middle;\n",
       "    }\n",
       "\n",
       "    .dataframe tbody tr th {\n",
       "        vertical-align: top;\n",
       "    }\n",
       "\n",
       "    .dataframe thead th {\n",
       "        text-align: right;\n",
       "    }\n",
       "</style>\n",
       "<table border=\"1\" class=\"dataframe\">\n",
       "  <thead>\n",
       "    <tr style=\"text-align: right;\">\n",
       "      <th></th>\n",
       "      <th>City</th>\n",
       "      <th>Lat</th>\n",
       "      <th>Lon</th>\n",
       "      <th>Max Temp</th>\n",
       "      <th>Humidity</th>\n",
       "      <th>Cloudiness</th>\n",
       "      <th>Wind Speed</th>\n",
       "      <th>Country</th>\n",
       "    </tr>\n",
       "  </thead>\n",
       "  <tbody>\n",
       "  </tbody>\n",
       "</table>\n",
       "</div>"
      ],
      "text/plain": [
       "Empty DataFrame\n",
       "Columns: [City, Lat, Lon, Max Temp, Humidity, Cloudiness, Wind Speed, Country]\n",
       "Index: []"
      ]
     },
     "execution_count": 43,
     "metadata": {},
     "output_type": "execute_result"
    }
   ],
   "source": [
    "steamy = weather_df[weather_df['Humidity'] > 100]\n",
    "steamy"
   ]
  },
  {
   "cell_type": "code",
   "execution_count": 44,
   "metadata": {},
   "outputs": [
    {
     "data": {
      "text/html": [
       "<div>\n",
       "<style scoped>\n",
       "    .dataframe tbody tr th:only-of-type {\n",
       "        vertical-align: middle;\n",
       "    }\n",
       "\n",
       "    .dataframe tbody tr th {\n",
       "        vertical-align: top;\n",
       "    }\n",
       "\n",
       "    .dataframe thead th {\n",
       "        text-align: right;\n",
       "    }\n",
       "</style>\n",
       "<table border=\"1\" class=\"dataframe\">\n",
       "  <thead>\n",
       "    <tr style=\"text-align: right;\">\n",
       "      <th></th>\n",
       "      <th>Lat</th>\n",
       "      <th>Lon</th>\n",
       "      <th>Max Temp</th>\n",
       "      <th>Humidity</th>\n",
       "      <th>Cloudiness</th>\n",
       "      <th>Wind Speed</th>\n",
       "    </tr>\n",
       "  </thead>\n",
       "  <tbody>\n",
       "    <tr>\n",
       "      <th>count</th>\n",
       "      <td>558.000000</td>\n",
       "      <td>558.000000</td>\n",
       "      <td>558.000000</td>\n",
       "      <td>558.000000</td>\n",
       "      <td>558.000000</td>\n",
       "      <td>558.000000</td>\n",
       "    </tr>\n",
       "    <tr>\n",
       "      <th>mean</th>\n",
       "      <td>19.742490</td>\n",
       "      <td>17.230004</td>\n",
       "      <td>69.389677</td>\n",
       "      <td>71.157706</td>\n",
       "      <td>54.181004</td>\n",
       "      <td>7.940072</td>\n",
       "    </tr>\n",
       "    <tr>\n",
       "      <th>std</th>\n",
       "      <td>33.653127</td>\n",
       "      <td>92.483546</td>\n",
       "      <td>14.097333</td>\n",
       "      <td>21.009706</td>\n",
       "      <td>39.340997</td>\n",
       "      <td>5.833336</td>\n",
       "    </tr>\n",
       "    <tr>\n",
       "      <th>min</th>\n",
       "      <td>-54.800000</td>\n",
       "      <td>-179.166700</td>\n",
       "      <td>33.300000</td>\n",
       "      <td>9.000000</td>\n",
       "      <td>0.000000</td>\n",
       "      <td>0.000000</td>\n",
       "    </tr>\n",
       "    <tr>\n",
       "      <th>25%</th>\n",
       "      <td>-8.576875</td>\n",
       "      <td>-65.767025</td>\n",
       "      <td>58.062500</td>\n",
       "      <td>59.000000</td>\n",
       "      <td>13.250000</td>\n",
       "      <td>3.770000</td>\n",
       "    </tr>\n",
       "    <tr>\n",
       "      <th>50%</th>\n",
       "      <td>22.426100</td>\n",
       "      <td>18.828850</td>\n",
       "      <td>70.965000</td>\n",
       "      <td>77.000000</td>\n",
       "      <td>60.000000</td>\n",
       "      <td>6.410000</td>\n",
       "    </tr>\n",
       "    <tr>\n",
       "      <th>75%</th>\n",
       "      <td>47.955275</td>\n",
       "      <td>99.066850</td>\n",
       "      <td>80.102500</td>\n",
       "      <td>88.000000</td>\n",
       "      <td>97.000000</td>\n",
       "      <td>10.735000</td>\n",
       "    </tr>\n",
       "    <tr>\n",
       "      <th>max</th>\n",
       "      <td>78.218600</td>\n",
       "      <td>179.316700</td>\n",
       "      <td>104.140000</td>\n",
       "      <td>100.000000</td>\n",
       "      <td>100.000000</td>\n",
       "      <td>40.780000</td>\n",
       "    </tr>\n",
       "  </tbody>\n",
       "</table>\n",
       "</div>"
      ],
      "text/plain": [
       "              Lat         Lon    Max Temp    Humidity  Cloudiness  Wind Speed\n",
       "count  558.000000  558.000000  558.000000  558.000000  558.000000  558.000000\n",
       "mean    19.742490   17.230004   69.389677   71.157706   54.181004    7.940072\n",
       "std     33.653127   92.483546   14.097333   21.009706   39.340997    5.833336\n",
       "min    -54.800000 -179.166700   33.300000    9.000000    0.000000    0.000000\n",
       "25%     -8.576875  -65.767025   58.062500   59.000000   13.250000    3.770000\n",
       "50%     22.426100   18.828850   70.965000   77.000000   60.000000    6.410000\n",
       "75%     47.955275   99.066850   80.102500   88.000000   97.000000   10.735000\n",
       "max     78.218600  179.316700  104.140000  100.000000  100.000000   40.780000"
      ]
     },
     "execution_count": 44,
     "metadata": {},
     "output_type": "execute_result"
    }
   ],
   "source": [
    "weather_df.describe()"
   ]
  },
  {
   "cell_type": "code",
   "execution_count": null,
   "metadata": {},
   "outputs": [],
   "source": [
    "#  Get the indices of cities that have humidity over 100%.\n",
    "# There were no cities over 100%"
   ]
  },
  {
   "cell_type": "code",
   "execution_count": 47,
   "metadata": {},
   "outputs": [
    {
     "data": {
      "text/html": [
       "<div>\n",
       "<style scoped>\n",
       "    .dataframe tbody tr th:only-of-type {\n",
       "        vertical-align: middle;\n",
       "    }\n",
       "\n",
       "    .dataframe tbody tr th {\n",
       "        vertical-align: top;\n",
       "    }\n",
       "\n",
       "    .dataframe thead th {\n",
       "        text-align: right;\n",
       "    }\n",
       "</style>\n",
       "<table border=\"1\" class=\"dataframe\">\n",
       "  <thead>\n",
       "    <tr style=\"text-align: right;\">\n",
       "      <th></th>\n",
       "      <th>City</th>\n",
       "      <th>Lat</th>\n",
       "      <th>Lon</th>\n",
       "      <th>Max Temp</th>\n",
       "      <th>Humidity</th>\n",
       "      <th>Cloudiness</th>\n",
       "      <th>Wind Speed</th>\n",
       "      <th>Country</th>\n",
       "    </tr>\n",
       "  </thead>\n",
       "  <tbody>\n",
       "    <tr>\n",
       "      <th>0</th>\n",
       "      <td>busselton</td>\n",
       "      <td>-33.6500</td>\n",
       "      <td>115.3333</td>\n",
       "      <td>51.80</td>\n",
       "      <td>82</td>\n",
       "      <td>53</td>\n",
       "      <td>4.92</td>\n",
       "      <td>AU</td>\n",
       "    </tr>\n",
       "    <tr>\n",
       "      <th>1</th>\n",
       "      <td>roald</td>\n",
       "      <td>62.5833</td>\n",
       "      <td>6.1333</td>\n",
       "      <td>66.00</td>\n",
       "      <td>94</td>\n",
       "      <td>75</td>\n",
       "      <td>27.63</td>\n",
       "      <td>NO</td>\n",
       "    </tr>\n",
       "    <tr>\n",
       "      <th>2</th>\n",
       "      <td>coos bay</td>\n",
       "      <td>43.3665</td>\n",
       "      <td>-124.2179</td>\n",
       "      <td>79.32</td>\n",
       "      <td>56</td>\n",
       "      <td>0</td>\n",
       "      <td>9.22</td>\n",
       "      <td>US</td>\n",
       "    </tr>\n",
       "    <tr>\n",
       "      <th>3</th>\n",
       "      <td>cherskiy</td>\n",
       "      <td>68.7500</td>\n",
       "      <td>161.3000</td>\n",
       "      <td>60.30</td>\n",
       "      <td>65</td>\n",
       "      <td>0</td>\n",
       "      <td>2.86</td>\n",
       "      <td>RU</td>\n",
       "    </tr>\n",
       "    <tr>\n",
       "      <th>4</th>\n",
       "      <td>atuona</td>\n",
       "      <td>-9.8000</td>\n",
       "      <td>-139.0333</td>\n",
       "      <td>77.32</td>\n",
       "      <td>76</td>\n",
       "      <td>13</td>\n",
       "      <td>22.08</td>\n",
       "      <td>PF</td>\n",
       "    </tr>\n",
       "  </tbody>\n",
       "</table>\n",
       "</div>"
      ],
      "text/plain": [
       "        City      Lat       Lon  Max Temp  Humidity  Cloudiness  Wind Speed  \\\n",
       "0  busselton -33.6500  115.3333     51.80        82          53        4.92   \n",
       "1      roald  62.5833    6.1333     66.00        94          75       27.63   \n",
       "2   coos bay  43.3665 -124.2179     79.32        56           0        9.22   \n",
       "3   cherskiy  68.7500  161.3000     60.30        65           0        2.86   \n",
       "4     atuona  -9.8000 -139.0333     77.32        76          13       22.08   \n",
       "\n",
       "  Country  \n",
       "0      AU  \n",
       "1      NO  \n",
       "2      US  \n",
       "3      RU  \n",
       "4      PF  "
      ]
     },
     "execution_count": 47,
     "metadata": {},
     "output_type": "execute_result"
    }
   ],
   "source": [
    "# Make a new DataFrame equal to the city data to drop all humidity outliers by index.\n",
    "# Passing \"inplace=False\" will make a copy of the city_data DataFrame, which we call \"clean_city_data\".\n",
    "clean_city_data = weather_df.loc[weather_df['Humidity'] <= 100]\n",
    "clean_city_data.head()"
   ]
  },
  {
   "cell_type": "markdown",
   "metadata": {},
   "source": [
    "## Plotting the Data\n",
    "* Use proper labeling of the plots using plot titles (including date of analysis) and axes labels.\n",
    "* Save the plotted figures as .pngs."
   ]
  },
  {
   "cell_type": "markdown",
   "metadata": {},
   "source": [
    "## Latitude vs. Temperature Plot"
   ]
  },
  {
   "cell_type": "code",
   "execution_count": 52,
   "metadata": {
    "scrolled": true
   },
   "outputs": [
    {
     "data": {
      "image/png": "[encoded data removed]",
      "text/plain": [
       "<Figure size 432x288 with 1 Axes>"
      ]
     },
     "metadata": {
      "needs_background": "light"
     },
     "output_type": "display_data"
    }
   ],
   "source": [
    "plt.scatter(lat, temp, marker=\"o\", facecolors=\"green\" )\n",
    "\n",
    "# add labels and display as a grid\n",
    "plt.title(\"Latitude vs Temperature\", fontsize=14, weight='bold')\n",
    "plt.xlabel(\"Latitude\", fontsize=10)\n",
    "plt.ylabel(\"Temperature(F)\", fontsize=10)\n",
    "plt.grid()\n",
    "plt.savefig(\"../python-api-challenge/output/images/lat_vs_temp.png\")\n",
    "plt.show()"
   ]
  },
  {
   "cell_type": "markdown",
   "metadata": {},
   "source": [
    "### The closer you are to the equator (0), the greater the likelihood of a higher temperature."
   ]
  },
  {
   "cell_type": "markdown",
   "metadata": {},
   "source": [
    "## Latitude vs. Humidity Plot"
   ]
  },
  {
   "cell_type": "code",
   "execution_count": 55,
   "metadata": {},
   "outputs": [
    {
     "data": {
      "image/png": "[encoded data removed]",
      "text/plain": [
       "<Figure size 432x288 with 1 Axes>"
      ]
     },
     "metadata": {
      "needs_background": "light"
     },
     "output_type": "display_data"
    }
   ],
   "source": [
    "plt.scatter(lon, humidity, marker=\"o\", facecolors=\"blue\" )\n",
    "\n",
    "# add labels and display as a grid\n",
    "plt.title(\"Longitude vs Humidity\", fontsize=14, weight='bold')\n",
    "plt.xlabel(\"Longitude\", fontsize=10)\n",
    "plt.ylabel(\"Humidity\", fontsize=10)\n",
    "plt.grid()\n",
    "plt.savefig(\"../python-api-challenge/output/images/lon_vs_humid.png\")\n",
    "plt.show()"
   ]
  },
  {
   "cell_type": "markdown",
   "metadata": {},
   "source": [
    "### The humidity levels are often more concentrated away from 0"
   ]
  },
  {
   "cell_type": "markdown",
   "metadata": {},
   "source": [
    "## Latitude vs. Cloudiness Plot"
   ]
  },
  {
   "cell_type": "code",
   "execution_count": 91,
   "metadata": {},
   "outputs": [
    {
     "data": {
      "image/png": "[encoded data removed]",
      "text/plain": [
       "<Figure size 432x288 with 1 Axes>"
      ]
     },
     "metadata": {
      "needs_background": "light"
     },
     "output_type": "display_data"
    }
   ],
   "source": [
    "plt.scatter(lat, cloudiness, marker=\"o\", facecolors=\"dodgerblue\", edgecolor='black' )\n",
    "\n",
    "# add labels and display as a grid\n",
    "plt.title(\"Latitude vs Cloudiness\", fontsize=14, weight='bold')\n",
    "plt.xlabel(\"Latitude\", fontsize=10)\n",
    "plt.ylabel(\"Cloudiness\", fontsize=10)\n",
    "plt.grid()\n",
    "plt.savefig(\"../python-api-challenge/output/images/lat_vs_cloud.png\")\n",
    "plt.show()"
   ]
  },
  {
   "cell_type": "markdown",
   "metadata": {},
   "source": [
    "### The sun is always shining near the equator."
   ]
  },
  {
   "cell_type": "markdown",
   "metadata": {},
   "source": [
    "## Latitude vs. Wind Speed Plot"
   ]
  },
  {
   "cell_type": "code",
   "execution_count": 59,
   "metadata": {},
   "outputs": [
    {
     "data": {
      "image/png": "[encoded data removed]",
      "text/plain": [
       "<Figure size 432x288 with 1 Axes>"
      ]
     },
     "metadata": {
      "needs_background": "light"
     },
     "output_type": "display_data"
    }
   ],
   "source": [
    "plt.scatter(lat, wind_speed, marker=\"o\", facecolors=\"orange\" )\n",
    "\n",
    "# add labels and display as a grid\n",
    "plt.title(\"Latitude vs Wind Speed\", fontsize=14, weight='bold')\n",
    "plt.xlabel(\"Latitude\", fontsize=10)\n",
    "plt.ylabel(\"Wind Speed (mph)\", fontsize=10)\n",
    "plt.grid()\n",
    "plt.savefig(\"../python-api-challenge/output/images/lat_vs_wind.png\")\n",
    "plt.show()"
   ]
  },
  {
   "cell_type": "markdown",
   "metadata": {},
   "source": [
    "### Wind speed is concentrated between 0 mph and 10 mph. There are some fliers farther away from the equator."
   ]
  },
  {
   "cell_type": "markdown",
   "metadata": {},
   "source": [
    "## Linear Regression"
   ]
  },
  {
   "cell_type": "markdown",
   "metadata": {},
   "source": [
    "####  Northern Hemisphere - Max Temp vs. Latitude Linear Regression"
   ]
  },
  {
   "cell_type": "code",
   "execution_count": 73,
   "metadata": {},
   "outputs": [
    {
     "name": "stdout",
     "output_type": "stream",
     "text": [
      "The r-squared is: 0.45161364762252004\n"
     ]
    },
    {
     "data": {
      "image/png": "[encoded data removed]",
      "text/plain": [
       "<Figure size 432x288 with 1 Axes>"
      ]
     },
     "metadata": {
      "needs_background": "light"
     },
     "output_type": "display_data"
    }
   ],
   "source": [
    "northern_hemisphere = clean_city_data.loc[clean_city_data['Lat'] >0 ]\n",
    "\n",
    "# Call variables for comparison\n",
    "x_values = northern_hemisphere['Lat']\n",
    "y_values = northern_hemisphere['Max Temp']\n",
    "\n",
    "(slope, intercept, rvalue, pvalue, stderr) = linregress(x_values, y_values)\n",
    "regress_values = x_values * slope + intercept\n",
    "line_eq = \"y = \" + str(round(slope,2)) + \"x + \" + str(round(intercept,2))\n",
    "plt.scatter(x_values, y_values)\n",
    "plt.plot(x_values, regress_values, \"r-\")\n",
    "plt.annotate(line_eq,(5.0,40), fontsize=10, color=\"red\")\n",
    "plt.xlabel(\"Latitude\")\n",
    "plt.ylabel(\"Max Temp(F)\")\n",
    "print(f\"The r-squared is: {rvalue**2}\")\n",
    "plt.show()"
   ]
  },
  {
   "cell_type": "markdown",
   "metadata": {},
   "source": [
    "####  Southern Hemisphere - Max Temp vs. Latitude Linear Regression"
   ]
  },
  {
   "cell_type": "code",
   "execution_count": 74,
   "metadata": {},
   "outputs": [
    {
     "name": "stdout",
     "output_type": "stream",
     "text": [
      "The r-squared is: 0.6967869960669987\n"
     ]
    },
    {
     "data": {
      "image/png": "[encoded data removed]",
      "text/plain": [
       "<Figure size 432x288 with 1 Axes>"
      ]
     },
     "metadata": {
      "needs_background": "light"
     },
     "output_type": "display_data"
    }
   ],
   "source": [
    "southern_hemisphere = clean_city_data.loc[clean_city_data['Lat'] <0 ]\n",
    "\n",
    "# Call variables for comparison\n",
    "x_values = southern_hemisphere['Lat']\n",
    "y_values = southern_hemisphere['Max Temp']\n",
    "\n",
    "(slope, intercept, rvalue, pvalue, stderr) = linregress(x_values, y_values)\n",
    "regress_values = x_values * slope + intercept\n",
    "line_eq = \"y = \" + str(round(slope,2)) + \"x + \" + str(round(intercept,2))\n",
    "plt.scatter(x_values, y_values)\n",
    "plt.plot(x_values, regress_values, \"r-\")\n",
    "plt.annotate(line_eq,(-15.0,40), fontsize=10, color=\"red\")\n",
    "plt.xlabel(\"Latitude\")\n",
    "plt.ylabel(\"Max Temp(F)\")\n",
    "print(f\"The r-squared is: {rvalue**2}\")\n",
    "plt.show()"
   ]
  },
  {
   "cell_type": "markdown",
   "metadata": {},
   "source": [
    "####  Northern Hemisphere - Humidity (%) vs. Latitude Linear Regression"
   ]
  },
  {
   "cell_type": "code",
   "execution_count": 78,
   "metadata": {},
   "outputs": [
    {
     "name": "stdout",
     "output_type": "stream",
     "text": [
      "The r-squared is: 0.000336369503374408\n"
     ]
    },
    {
     "data": {
      "image/png": "[encoded data removed]",
      "text/plain": [
       "<Figure size 432x288 with 1 Axes>"
      ]
     },
     "metadata": {
      "needs_background": "light"
     },
     "output_type": "display_data"
    }
   ],
   "source": [
    "# Call variables for comparison\n",
    "x_values = northern_hemisphere['Lat']\n",
    "y_values = northern_hemisphere['Humidity']\n",
    "\n",
    "(slope, intercept, rvalue, pvalue, stderr) = linregress(x_values, y_values)\n",
    "regress_values = x_values * slope + intercept\n",
    "line_eq = \"y = \" + str(round(slope,2)) + \"x + \" + str(round(intercept,2))\n",
    "plt.scatter(x_values, y_values)\n",
    "plt.plot(x_values, regress_values, \"r-\")\n",
    "plt.annotate(line_eq,(55.0,15), fontsize=10, color=\"red\")\n",
    "plt.xlabel(\"Latitude\")\n",
    "plt.ylabel(\"Humidity\")\n",
    "print(f\"The r-squared is: {rvalue**2}\")\n",
    "plt.show()"
   ]
  },
  {
   "cell_type": "markdown",
   "metadata": {},
   "source": [
    "####  Southern Hemisphere - Humidity (%) vs. Latitude Linear Regression"
   ]
  },
  {
   "cell_type": "code",
   "execution_count": 81,
   "metadata": {},
   "outputs": [
    {
     "name": "stdout",
     "output_type": "stream",
     "text": [
      "The r-squared is: 0.0033135936317691345\n"
     ]
    },
    {
     "data": {
      "image/png": "[encoded data removed]",
      "text/plain": [
       "<Figure size 432x288 with 1 Axes>"
      ]
     },
     "metadata": {
      "needs_background": "light"
     },
     "output_type": "display_data"
    }
   ],
   "source": [
    "x_values = southern_hemisphere['Lat']\n",
    "y_values = southern_hemisphere['Humidity']\n",
    "\n",
    "(slope, intercept, rvalue, pvalue, stderr) = linregress(x_values, y_values)\n",
    "regress_values = x_values * slope + intercept\n",
    "line_eq = \"y = \" + str(round(slope,2)) + \"x + \" + str(round(intercept,2))\n",
    "plt.scatter(x_values, y_values)\n",
    "plt.plot(x_values, regress_values, \"r-\")\n",
    "plt.annotate(line_eq,(-55.0,15), fontsize=10, color=\"red\")\n",
    "plt.xlabel(\"Latitude\")\n",
    "plt.ylabel(\"Humidity\")\n",
    "print(f\"The r-squared is: {rvalue**2}\")\n",
    "plt.show()"
   ]
  },
  {
   "cell_type": "markdown",
   "metadata": {},
   "source": [
    "####  Northern Hemisphere - Cloudiness (%) vs. Latitude Linear Regression"
   ]
  },
  {
   "cell_type": "code",
   "execution_count": 84,
   "metadata": {},
   "outputs": [
    {
     "name": "stdout",
     "output_type": "stream",
     "text": [
      "The r-squared is: 0.002475873286448224\n"
     ]
    },
    {
     "data": {
      "image/png": "[encoded data removed]",
      "text/plain": [
       "<Figure size 432x288 with 1 Axes>"
      ]
     },
     "metadata": {
      "needs_background": "light"
     },
     "output_type": "display_data"
    }
   ],
   "source": [
    "# Call variables for comparison\n",
    "x_values = northern_hemisphere['Lat']\n",
    "y_values = northern_hemisphere['Cloudiness']\n",
    "\n",
    "(slope, intercept, rvalue, pvalue, stderr) = linregress(x_values, y_values)\n",
    "regress_values = x_values * slope + intercept\n",
    "line_eq = \"y = \" + str(round(slope,2)) + \"x + \" + str(round(intercept,2))\n",
    "plt.scatter(x_values, y_values)\n",
    "plt.plot(x_values, regress_values, \"r-\")\n",
    "plt.annotate(line_eq,(5.0,10), fontsize=10, color=\"red\")\n",
    "plt.xlabel(\"Latitude\")\n",
    "plt.ylabel(\"Cloudiness\")\n",
    "print(f\"The r-squared is: {rvalue**2}\")\n",
    "plt.show()"
   ]
  },
  {
   "cell_type": "markdown",
   "metadata": {},
   "source": [
    "####  Southern Hemisphere - Cloudiness (%) vs. Latitude Linear Regression"
   ]
  },
  {
   "cell_type": "code",
   "execution_count": 85,
   "metadata": {},
   "outputs": [
    {
     "name": "stdout",
     "output_type": "stream",
     "text": [
      "The r-squared is: 0.0004910274291184392\n"
     ]
    },
    {
     "data": {
      "image/png": "[encoded data removed]",
      "text/plain": [
       "<Figure size 432x288 with 1 Axes>"
      ]
     },
     "metadata": {
      "needs_background": "light"
     },
     "output_type": "display_data"
    }
   ],
   "source": [
    "# Call variables for comparison\n",
    "x_values = southern_hemisphere['Lat']\n",
    "y_values = southern_hemisphere['Cloudiness']\n",
    "\n",
    "(slope, intercept, rvalue, pvalue, stderr) = linregress(x_values, y_values)\n",
    "regress_values = x_values * slope + intercept\n",
    "line_eq = \"y = \" + str(round(slope,2)) + \"x + \" + str(round(intercept,2))\n",
    "plt.scatter(x_values, y_values)\n",
    "plt.plot(x_values, regress_values, \"r-\")\n",
    "plt.annotate(line_eq,(5.0,10), fontsize=10, color=\"red\")\n",
    "plt.xlabel(\"Latitude\")\n",
    "plt.ylabel(\"Cloudiness\")\n",
    "print(f\"The r-squared is: {rvalue**2}\")\n",
    "plt.show()"
   ]
  },
  {
   "cell_type": "markdown",
   "metadata": {},
   "source": [
    "####  Northern Hemisphere - Wind Speed (mph) vs. Latitude Linear Regression"
   ]
  },
  {
   "cell_type": "code",
   "execution_count": 86,
   "metadata": {},
   "outputs": [
    {
     "name": "stdout",
     "output_type": "stream",
     "text": [
      "The r-squared is: 0.00046656119335722085\n"
     ]
    },
    {
     "data": {
      "image/png": "[encoded data removed]",
      "text/plain": [
       "<Figure size 432x288 with 1 Axes>"
      ]
     },
     "metadata": {
      "needs_background": "light"
     },
     "output_type": "display_data"
    }
   ],
   "source": [
    "x_values = northern_hemisphere['Lat']\n",
    "y_values = northern_hemisphere['Wind Speed']\n",
    "\n",
    "(slope, intercept, rvalue, pvalue, stderr) = linregress(x_values, y_values)\n",
    "regress_values = x_values * slope + intercept\n",
    "line_eq = \"y = \" + str(round(slope,2)) + \"x + \" + str(round(intercept,2))\n",
    "plt.scatter(x_values, y_values)\n",
    "plt.plot(x_values, regress_values, \"r-\")\n",
    "plt.annotate(line_eq,(5.0,10), fontsize=10, color=\"red\")\n",
    "plt.xlabel(\"Latitude\")\n",
    "plt.ylabel(\"Wind Speed\")\n",
    "print(f\"The r-squared is: {rvalue**2}\")\n",
    "plt.show()"
   ]
  },
  {
   "cell_type": "markdown",
   "metadata": {},
   "source": [
    "####  Southern Hemisphere - Wind Speed (mph) vs. Latitude Linear Regression"
   ]
  },
  {
   "cell_type": "code",
   "execution_count": 90,
   "metadata": {},
   "outputs": [
    {
     "name": "stdout",
     "output_type": "stream",
     "text": [
      "The r-squared is: 0.004768797664009646\n"
     ]
    },
    {
     "data": {
      "image/png": "[encoded data removed]",
      "text/plain": [
       "<Figure size 432x288 with 1 Axes>"
      ]
     },
     "metadata": {
      "needs_background": "light"
     },
     "output_type": "display_data"
    }
   ],
   "source": [
    "x_values = southern_hemisphere['Lat']\n",
    "y_values = southern_hemisphere['Wind Speed']\n",
    "\n",
    "(slope, intercept, rvalue, pvalue, stderr) = linregress(x_values, y_values)\n",
    "regress_values = x_values * slope + intercept\n",
    "line_eq = \"y = \" + str(round(slope,2)) + \"x + \" + str(round(intercept,2))\n",
    "plt.scatter(x_values, y_values)\n",
    "plt.plot(x_values, regress_values, \"r-\")\n",
    "plt.annotate(line_eq,(-55.0,27), fontsize=10, color=\"red\")\n",
    "plt.xlabel(\"Latitude\")\n",
    "plt.ylabel(\"Wind Speed\")\n",
    "print(f\"The r-squared is: {rvalue**2}\")\n",
    "plt.show()"
   ]
  }
 ],
 "metadata": {
  "anaconda-cloud": {},
  "kernel_info": {
   "name": "python3"
  },
  "kernelspec": {
   "display_name": "Python 3.8.13 ('Python38')",
   "language": "python",
   "name": "python3"
  },
  "language_info": {
   "codemirror_mode": {
    "name": "ipython",
    "version": 3
   },
   "file_extension": ".py",
   "mimetype": "text/x-python",
   "name": "python",
   "nbconvert_exporter": "python",
   "pygments_lexer": "ipython3",
   "version": "3.8.13"
  },
  "latex_envs": {
   "LaTeX_envs_menu_present": true,
   "autoclose": false,
   "autocomplete": true,
   "bibliofile": "biblio.bib",
   "cite_by": "apalike",
   "current_citInitial": 1,
   "eqLabelWithNumbers": true,
   "eqNumInitial": 1,
   "hotkeys": {
    "equation": "Ctrl-E",
    "itemize": "Ctrl-I"
   },
   "labels_anchors": false,
   "latex_user_defs": false,
   "report_style_numbering": false,
   "user_envs_cfg": false
  },
  "nteract": {
   "version": "0.12.3"
  },
  "vscode": {
   "interpreter": {
    "hash": "7113e3970f98a4d04de61aad7e2a4e99472b30f3b9a9e79f0555aab5ccdb8ff2"
   }
  }
 },
 "nbformat": 4,
 "nbformat_minor": 2
}
