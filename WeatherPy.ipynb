{
 "cells": [
  {
   "cell_type": "markdown",
   "metadata": {},
   "source": [
    "# WeatherPy\n",
    "----\n",
    "\n",
    "#### Note\n",
    "* Instructions have been included for each segment. You do not have to follow them exactly, but they are included to help you think through the steps."
   ]
  },
  {
   "cell_type": "code",
   "execution_count": 1,
   "metadata": {
    "scrolled": true
   },
   "outputs": [],
   "source": [
    "# Dependencies and Setup\n",
    "import matplotlib.pyplot as plt\n",
    "import pandas as pd\n",
    "import numpy as np\n",
    "import requests\n",
    "import time\n",
    "from scipy.stats import linregress\n",
    "import datetime as dt\n",
    "\n",
    "# Import API key\n",
    "from config import weather_api_key\n",
    "\n",
    "# Incorporated citipy to determine city based on latitude and longitude\n",
    "from citipy import citipy\n",
    "\n",
    "# Output File (CSV)\n",
    "output_data_file = \"output_data/cities.csv\"\n",
    "\n",
    "# Range of latitudes and longitudes\n",
    "lat_range = (-90, 90)\n",
    "lng_range = (-180, 180)\n"
   ]
  },
  {
   "cell_type": "markdown",
   "metadata": {},
   "source": [
    "## Generate Cities List"
   ]
  },
  {
   "cell_type": "code",
   "execution_count": 2,
   "metadata": {},
   "outputs": [
    {
     "data": {
      "text/plain": [
       "603"
      ]
     },
     "execution_count": 2,
     "metadata": {},
     "output_type": "execute_result"
    }
   ],
   "source": [
    "# List for holding lat_lngs and cities\n",
    "lat_lngs = []\n",
    "cities = []\n",
    "\n",
    "# Create a set of random lat and lng combinations\n",
    "lats = np.random.uniform(lat_range[0], lat_range[1], size=1500)\n",
    "lngs = np.random.uniform(lng_range[0], lng_range[1], size=1500)\n",
    "lat_lngs = zip(lats, lngs)\n",
    "\n",
    "# Identify nearest city for each lat, lng combination\n",
    "for lat_lng in lat_lngs:\n",
    "    city = citipy.nearest_city(lat_lng[0], lat_lng[1]).city_name\n",
    "    \n",
    "    # If the city is unique, then add it to a our cities list\n",
    "    if city not in cities:\n",
    "        cities.append(city)\n",
    "\n",
    "# Print the city count to confirm sufficient count\n",
    "len(cities)\n",
    "#print(cities)\n",
    "\n"
   ]
  },
  {
   "cell_type": "markdown",
   "metadata": {},
   "source": [
    "### Perform API Calls\n",
    "* Perform a weather check on each city using a series of successive API calls.\n",
    "* Include a print log of each city as it'sbeing processed (with the city number and city name).\n"
   ]
  },
  {
   "cell_type": "code",
   "execution_count": 3,
   "metadata": {
    "scrolled": true
   },
   "outputs": [
    {
     "name": "stdout",
     "output_type": "stream",
     "text": [
      "Record found: nha trang\n",
      "Record found: kapaa\n",
      "Record found: sitka\n",
      "City not found: meyungs\n",
      "Record found: punta arenas\n",
      "Record found: ponta do sol\n",
      "Record found: bambous virieux\n",
      "Record found: matay\n",
      "Record found: ushuaia\n",
      "Record found: lebu\n",
      "Record found: new norfolk\n",
      "Record found: esperance\n",
      "Record found: bluff\n",
      "Record found: mahibadhoo\n",
      "Record found: sisimiut\n",
      "Record found: geraldton\n",
      "Record found: flinders\n",
      "Record found: palanga\n",
      "Record found: caltanissetta\n",
      "Record found: saldanha\n",
      "City not found: mys shmidta\n",
      "Record found: hermanus\n",
      "Record found: torbay\n",
      "Record found: mataura\n",
      "Record found: puerto ayora\n",
      "Record found: hithadhoo\n",
      "Record found: oranjemund\n",
      "Record found: ilulissat\n",
      "Record found: saint-avold\n",
      "Record found: husavik\n",
      "Record found: hobart\n",
      "Record found: urengoy\n",
      "Record found: bima\n",
      "Record found: port alfred\n",
      "City not found: takob\n",
      "Record found: jamestown\n",
      "Record found: limon\n",
      "Record found: busselton\n",
      "Record found: russkaya polyana\n",
      "Record found: quatre cocos\n",
      "Record found: albany\n",
      "Record found: souillac\n",
      "Record found: avarua\n",
      "Record found: camacha\n",
      "Record found: campagna\n",
      "Record found: nanortalik\n",
      "Record found: hilo\n",
      "Record found: grindavik\n",
      "Record found: general roca\n",
      "Record found: kodiak\n",
      "Record found: kushmurun\n",
      "Record found: sinnamary\n",
      "Record found: atuona\n",
      "Record found: samarai\n",
      "Record found: cape town\n",
      "Record found: tanout\n",
      "Record found: mareeba\n",
      "Record found: kintinku\n",
      "Record found: rikitea\n",
      "Record found: nayoro\n",
      "Record found: castro\n",
      "Record found: port elizabeth\n",
      "Record found: chicama\n",
      "Record found: vestmannaeyjar\n",
      "Record found: ouidah\n",
      "City not found: mullaitivu\n",
      "Record found: bilma\n",
      "Record found: barrow\n",
      "Record found: saint george\n",
      "Record found: valparaiso\n",
      "Record found: arraial do cabo\n",
      "Record found: saint-philippe\n",
      "Record found: prince rupert\n",
      "City not found: nizhneyansk\n",
      "Record found: grand gaube\n",
      "Record found: sao felix do xingu\n",
      "Record found: airai\n",
      "Record found: quelimane\n",
      "Record found: butaritari\n",
      "Record found: dikson\n",
      "Record found: yellowknife\n",
      "Record found: bontang\n",
      "Record found: rio gallegos\n",
      "City not found: belushya guba\n",
      "City not found: barawe\n",
      "Record found: gilgit\n",
      "Record found: victoria\n",
      "Record found: mangan\n",
      "Record found: bredasdorp\n",
      "Record found: lavrentiya\n",
      "Record found: diego de almagro\n",
      "Record found: ouadda\n",
      "City not found: illoqqortoormiut\n",
      "Record found: sao filipe\n",
      "Record found: broome\n",
      "Record found: mon\n",
      "Record found: khryashchevka\n",
      "Record found: saint-joseph\n",
      "Record found: phan thiet\n",
      "Record found: biak\n",
      "City not found: shkotovo-22\n",
      "Record found: kibaya\n",
      "Record found: vaini\n",
      "Record found: dunedin\n",
      "Record found: bathsheba\n",
      "City not found: lolua\n",
      "Record found: chokurdakh\n",
      "Record found: port lincoln\n",
      "Record found: bonavista\n",
      "Record found: longyearbyen\n",
      "Record found: porto novo\n",
      "Record found: lompoc\n",
      "Record found: berlevag\n",
      "Record found: qasigiannguit\n",
      "Record found: panguna\n",
      "City not found: amderma\n",
      "Record found: faya\n",
      "Record found: bengkulu\n",
      "Record found: qaanaaq\n",
      "Record found: seoul\n",
      "Record found: evans\n",
      "Record found: leningradskiy\n",
      "Record found: isangel\n",
      "Record found: merauke\n",
      "Record found: sistranda\n",
      "Record found: oga\n",
      "Record found: thompson\n",
      "Record found: aklavik\n",
      "Record found: carnarvon\n",
      "Record found: alofi\n",
      "Record found: evensk\n",
      "City not found: palabuhanratu\n",
      "Record found: pacific grove\n",
      "Record found: chuy\n",
      "Record found: nikolskoye\n",
      "Record found: zhireken\n",
      "Record found: provideniya\n",
      "Record found: fredericksburg\n",
      "Record found: sokolo\n",
      "Record found: sirsaganj\n",
      "Record found: mackay\n",
      "Record found: tiksi\n",
      "Record found: vila velha\n",
      "Record found: beyla\n",
      "Record found: mingguang\n",
      "Record found: fortuna\n",
      "City not found: tsihombe\n",
      "Record found: lewistown\n",
      "Record found: narasannapeta\n",
      "Record found: flin flon\n",
      "Record found: mlyniv\n",
      "Record found: mar del plata\n",
      "Record found: tuktoyaktuk\n",
      "Record found: mabay\n",
      "Record found: khash\n",
      "Record found: cacule\n",
      "City not found: marcona\n",
      "Record found: kaitangata\n",
      "Record found: nouakchott\n",
      "Record found: cherskiy\n",
      "Record found: deputatskiy\n",
      "City not found: grand river south east\n",
      "Record found: sokoni\n",
      "Record found: vigeland\n",
      "Record found: chimbote\n",
      "Record found: bandarbeyla\n",
      "Record found: kananga\n",
      "Record found: fergus falls\n",
      "Record found: san rafael\n",
      "Record found: cabo san lucas\n",
      "Record found: touros\n",
      "Record found: port macquarie\n",
      "Record found: nome\n",
      "Record found: narsaq\n",
      "Record found: durg\n",
      "Record found: katsuura\n",
      "Record found: georgetown\n",
      "Record found: sao joao da barra\n",
      "Record found: goderich\n",
      "Record found: saskylakh\n",
      "Record found: jumla\n",
      "Record found: cooma\n",
      "Record found: tsabong\n",
      "Record found: kibala\n",
      "Record found: atmakur\n",
      "Record found: khani\n",
      "Record found: hamilton\n",
      "City not found: tawkar\n",
      "Record found: mozelos\n",
      "Record found: vung tau\n",
      "Record found: skjervoy\n",
      "Record found: peace river\n",
      "Record found: pevek\n",
      "Record found: codrington\n",
      "Record found: buala\n",
      "Record found: hofn\n",
      "Record found: dingle\n",
      "Record found: bethel\n",
      "Record found: terney\n",
      "City not found: barentsburg\n",
      "Record found: saint-augustin\n",
      "Record found: beipiao\n",
      "Record found: muros\n",
      "Record found: lakes entrance\n",
      "Record found: severo-yeniseyskiy\n",
      "Record found: shubarkuduk\n",
      "Record found: nenjiang\n",
      "Record found: tezpur\n",
      "Record found: upernavik\n",
      "Record found: vallenar\n",
      "Record found: adrar\n",
      "Record found: locri\n",
      "Record found: ancud\n",
      "Record found: slave lake\n",
      "Record found: vila franca do campo\n",
      "Record found: scarborough\n",
      "Record found: komsomolets\n",
      "Record found: asau\n",
      "Record found: umm lajj\n",
      "Record found: port hardy\n",
      "Record found: west lafayette\n",
      "Record found: cockburn town\n",
      "Record found: lufilufi\n",
      "Record found: salvador\n",
      "Record found: luanda\n",
      "City not found: shchuchye\n",
      "Record found: bubaque\n",
      "Record found: eyl\n",
      "Record found: cayenne\n",
      "Record found: hvolsvollur\n",
      "Record found: popondetta\n",
      "Record found: karratha\n",
      "Record found: ganzhou\n",
      "Record found: los llanos de aridane\n",
      "Record found: redding\n",
      "Record found: abonnema\n",
      "Record found: tigil\n",
      "Record found: tuatapere\n",
      "Record found: gatesville\n",
      "City not found: taolanaro\n",
      "Record found: muzaffarabad\n",
      "Record found: vanavara\n",
      "Record found: pochutla\n",
      "Record found: torres\n",
      "Record found: west plains\n",
      "Record found: macamic\n",
      "Record found: champerico\n",
      "Record found: hyderabad\n",
      "Record found: waipawa\n",
      "Record found: yazman\n",
      "Record found: ahipara\n",
      "Record found: san cristobal\n",
      "Record found: inongo\n",
      "Record found: hasaki\n",
      "Record found: moyale\n",
      "Record found: olafsvik\n",
      "Record found: kruisfontein\n",
      "Record found: norman wells\n",
      "Record found: quevedo\n",
      "Record found: port-gentil\n",
      "Record found: bodrum\n",
      "Record found: orlik\n",
      "Record found: riyadh\n",
      "Record found: eagle pass\n",
      "Record found: half moon bay\n",
      "Record found: honningsvag\n",
      "Record found: ribeira brava\n",
      "Record found: tevriz\n",
      "City not found: mocambique\n",
      "City not found: subaytilah\n",
      "Record found: atar\n",
      "Record found: kouqian\n",
      "Record found: gazanjyk\n",
      "Record found: coquimbo\n",
      "Record found: bogorodskoye\n",
      "Record found: coihaique\n",
      "Record found: zonguldak\n",
      "Record found: bonthe\n",
      "Record found: beremend\n",
      "City not found: yanchukan\n",
      "Record found: sobolevo\n",
      "Record found: zatoka\n",
      "Record found: kampong thum\n",
      "Record found: tambun\n",
      "Record found: negombo\n",
      "Record found: rapid valley\n",
      "Record found: kuliyapitiya\n",
      "Record found: uyuni\n",
      "City not found: sentyabrskiy\n",
      "Record found: troitsko-pechorsk\n",
      "Record found: north bend\n",
      "Record found: kuopio\n",
      "Record found: richards bay\n",
      "Record found: lata\n",
      "Record found: namatanai\n",
      "Record found: taltal\n",
      "Record found: zaranj\n",
      "Record found: vao\n",
      "Record found: ribeira grande\n",
      "Record found: padang\n",
      "Record found: suntar\n",
      "City not found: galgani\n",
      "Record found: atherton\n",
      "Record found: marquette\n",
      "Record found: beringovskiy\n",
      "Record found: bushehr\n",
      "Record found: maniitsoq\n",
      "Record found: muisne\n",
      "Record found: mier\n",
      "Record found: peruibe\n",
      "Record found: darhan\n",
      "Record found: caravelas\n",
      "Record found: banepa\n",
      "Record found: iquitos\n",
      "Record found: dagana\n",
      "Record found: santiago del estero\n",
      "Record found: salinopolis\n",
      "City not found: tarudant\n",
      "Record found: hauterive\n",
      "Record found: dunmore town\n",
      "City not found: bargal\n",
      "Record found: ngunguru\n",
      "Record found: jacareacanga\n",
      "Record found: ribas do rio pardo\n",
      "Record found: teguise\n",
      "Record found: margate\n",
      "Record found: la rioja\n",
      "Record found: cervo\n",
      "Record found: cidreira\n",
      "Record found: pafos\n",
      "Record found: iqaluit\n",
      "Record found: faanui\n",
      "Record found: kjollefjord\n",
      "Record found: chimore\n",
      "Record found: danjiangkou\n",
      "Record found: tasiilaq\n",
      "Record found: hualmay\n",
      "Record found: portland\n",
      "Record found: pemba\n",
      "Record found: wewak\n",
      "Record found: cap malheureux\n",
      "Record found: miraflores\n",
      "Record found: wattegama\n",
      "Record found: tilichiki\n",
      "Record found: camopi\n",
      "Record found: vardo\n",
      "Record found: shingu\n",
      "Record found: plettenberg bay\n",
      "Record found: lensk\n",
      "Record found: itum-kale\n",
      "Record found: pisco\n",
      "Record found: hovd\n",
      "Record found: verkhoyansk\n",
      "Record found: chapais\n",
      "Record found: port blair\n",
      "Record found: constantine\n",
      "Record found: dapdap\n",
      "Record found: havre-saint-pierre\n",
      "Record found: constitucion\n",
      "Record found: merced\n",
      "Record found: tank\n",
      "Record found: imeni poliny osipenko\n",
      "Record found: khatanga\n",
      "Record found: gisborne\n",
      "Record found: cape girardeau\n",
      "Record found: llata\n",
      "City not found: rungata\n",
      "City not found: saleaula\n",
      "Record found: mount gambier\n",
      "Record found: batagay\n",
      "Record found: kavieng\n",
      "Record found: arthur\n",
      "Record found: wuning\n",
      "Record found: lodja\n",
      "City not found: attawapiskat\n",
      "Record found: lorengau\n",
      "Record found: komsomolskiy\n",
      "Record found: pangody\n",
      "Record found: tateyama\n",
      "Record found: clarence town\n",
      "Record found: sur\n",
      "Record found: tautira\n",
      "Record found: dovhe\n",
      "Record found: kaoma\n",
      "City not found: vaitupu\n",
      "Record found: aykhal\n",
      "Record found: salinas\n",
      "Record found: laela\n",
      "City not found: fevralsk\n",
      "Record found: gat\n",
      "Record found: east london\n",
      "Record found: paita\n",
      "Record found: brunico\n",
      "Record found: guanica\n",
      "Record found: leshukonskoye\n",
      "Record found: broken hill\n",
      "Record found: rome\n",
      "Record found: trebisacce\n",
      "Record found: arys\n",
      "Record found: tarauaca\n",
      "City not found: saryshagan\n",
      "Record found: necochea\n",
      "Record found: chillicothe\n",
      "Record found: zhigansk\n",
      "Record found: koberice\n",
      "Record found: batticaloa\n",
      "Record found: antalaha\n",
      "Record found: norwich\n",
      "Record found: guarapari\n",
      "Record found: haukipudas\n",
      "Record found: katima mulilo\n",
      "Record found: comodoro rivadavia\n",
      "City not found: el faiyum\n",
      "Record found: natal\n",
      "Record found: curico\n",
      "Record found: teahupoo\n",
      "Record found: havelock\n",
      "Record found: malnas\n",
      "Record found: naron\n",
      "Record found: miresu mare\n",
      "Record found: jamiltepec\n",
      "Record found: salalah\n",
      "Record found: opuwo\n",
      "Record found: ngorongoro\n",
      "Record found: dafeng\n",
      "Record found: maragogi\n",
      "Record found: quang ngai\n",
      "Record found: nkowakowa\n",
      "Record found: planos\n",
      "Record found: hervey bay\n",
      "Record found: nakano\n",
      "Record found: sandwick\n",
      "Record found: surgut\n",
      "Record found: punta cardon\n",
      "City not found: dibaya\n",
      "Record found: altamont\n",
      "City not found: daxian\n",
      "City not found: wazzan\n",
      "Record found: oktyabrskiy\n",
      "Record found: lubango\n",
      "Record found: bay village\n",
      "Record found: pangnirtung\n",
      "Record found: sijunjung\n",
      "Record found: swidnica\n",
      "Record found: arlit\n",
      "Record found: san gabriel\n",
      "Record found: mana\n",
      "Record found: numaligarh\n",
      "Record found: obo\n",
      "Record found: wasilla\n",
      "Record found: russell\n",
      "Record found: chulym\n",
      "Record found: the valley\n",
      "Record found: changji\n",
      "Record found: loandjili\n",
      "City not found: samusu\n",
      "Record found: marsh harbour\n",
      "Record found: kargasok\n",
      "Record found: norsup\n",
      "Record found: great falls\n",
      "Record found: cotonou\n",
      "Record found: kroya\n",
      "Record found: kavaratti\n",
      "Record found: kawalu\n",
      "Record found: marawi\n",
      "Record found: alice springs\n",
      "Record found: nisia floresta\n",
      "Record found: mpika\n",
      "Record found: pozo colorado\n",
      "Record found: sandanski\n",
      "Record found: najran\n",
      "Record found: high level\n",
      "City not found: redhakhol\n",
      "Record found: puri\n",
      "Record found: dongsheng\n",
      "Record found: barentu\n",
      "Record found: enid\n",
      "Record found: hobyo\n",
      "Record found: kahului\n",
      "Record found: klaksvik\n",
      "Record found: kieta\n",
      "Record found: sabha\n",
      "Record found: te anau\n",
      "Record found: pestravka\n",
      "Record found: yorosso\n",
      "Record found: avera\n",
      "Record found: clyde river\n",
      "Record found: urusha\n",
      "Record found: naze\n",
      "Record found: yar-sale\n",
      "Record found: fairbanks\n",
      "Record found: haines junction\n",
      "City not found: solsvik\n",
      "Record found: dalbandin\n",
      "Record found: college\n",
      "Record found: gravdal\n",
      "Record found: lunsar\n",
      "City not found: malwan\n",
      "Record found: chapleau\n",
      "Record found: tura\n",
      "Record found: tabou\n",
      "Record found: cap-aux-meules\n",
      "Record found: nizhniy kuranakh\n",
      "Record found: warrington\n",
      "Record found: pedernales\n",
      "Record found: deogarh\n",
      "Record found: glinka\n",
      "Record found: kristiinankaupunki\n",
      "Record found: santa maria\n",
      "Record found: maryborough\n",
      "Record found: caibarien\n",
      "Record found: yerbogachen\n",
      "Record found: elat\n",
      "Record found: yaan\n",
      "Record found: jalu\n",
      "Record found: berbera\n",
      "Record found: tokur\n",
      "Record found: kirakira\n",
      "Record found: meulaboh\n",
      "Record found: sioux lookout\n",
      "Record found: grivenskaya\n",
      "Record found: nizwa\n",
      "Record found: varhaug\n",
      "Record found: santona\n",
      "Record found: tuni\n",
      "Record found: roebourne\n",
      "Record found: northview\n",
      "Record found: hurghada\n",
      "Record found: pokoynoye\n",
      "Record found: bitung\n",
      "Record found: celestun\n",
      "City not found: kadykchan\n",
      "Record found: dalby\n",
      "Record found: westport\n",
      "Record found: lima\n",
      "Record found: santa cruz\n",
      "Record found: hirara\n",
      "City not found: ngukurr\n",
      "Record found: burevestnik\n",
      "Record found: jinchang\n",
      "Record found: aleksin\n",
      "Record found: zamora\n",
      "City not found: kesennuma\n",
      "Record found: mogadouro\n",
      "Record found: coxim\n",
      "Record found: trelew\n",
      "Record found: gostyn\n",
      "Record found: tual\n",
      "Record found: gaurnadi\n",
      "Record found: khrebtovaya\n",
      "Record found: sawakin\n",
      "Record found: talnakh\n",
      "Record found: guerrero negro\n",
      "Record found: ugento\n",
      "Record found: kidal\n",
      "Record found: hutchinson\n",
      "Record found: gorontalo\n",
      "Record found: altay\n",
      "Record found: ericeira\n",
      "Record found: salekhard\n",
      "Record found: nelson bay\n",
      "Record found: itarema\n",
      "City not found: warqla\n",
      "Record found: mantua\n",
      "Record found: san ignacio\n",
      "Record found: severo-kurilsk\n",
      "Record found: ola\n",
      "Record found: mahajanga\n",
      "Record found: abaetetuba\n",
      "Record found: kaeo\n",
      "Record found: saint simons\n",
      "Record found: kamenka\n",
      "Record found: lincoln\n",
      "Record found: alyangula\n",
      "Record found: grand-bourg\n",
      "Record found: ballina\n",
      "Record found: mangai\n",
      "Record found: portoferraio\n",
      "Record found: udachnyy\n",
      "Record found: kalmunai\n",
      "Record found: paamiut\n",
      "Record found: xai-xai\n",
      "Record found: caboolture\n",
      "City not found: chugunash\n",
      "Record found: mao\n",
      "Record found: nokaneng\n",
      "Record found: altagracia de orituco\n",
      "Record found: luderitz\n",
      "Record found: san patricio\n",
      "Record found: gambela\n",
      "Record found: boke\n",
      "Record found: doha\n",
      "Record found: wanaka\n",
      "Record found: ziarat\n",
      "Record found: thurso\n",
      "Record found: rosarito\n",
      "Record found: zhangzhou\n",
      "Record found: laguna\n",
      "Record found: lithakia\n",
      "Record found: piney green\n",
      "Record found: manicore\n",
      "Record found: asyut\n",
      "Record found: salihli\n",
      "Finished -- Finally!\n"
     ]
    }
   ],
   "source": [
    "# Weather from above cited cities\n",
    "base_url = \"https://api.openweathermap.org/data/2.5/weather?\"\n",
    "units = 'imperial'\n",
    "APPID = weather_api_key\n",
    "query_url = f\"{base_url}appid={APPID}&units={units}&q=\"\n",
    "\n",
    "#cities = [\"Minneapolis\", \"Duluth\", \"Mankato\"]\n",
    "\n",
    "# Lists for output\n",
    "lat = []\n",
    "lon = []\n",
    "found_cities = []\n",
    "temp = []\n",
    "humidity = []\n",
    "cloudiness = []\n",
    "wind_speed = []\n",
    "date = []\n",
    "country = []\n",
    "for city in cities:\n",
    "    try:\n",
    "        response = requests.get(query_url + city).json()\n",
    "        lat.append(response['coord']['lat'])\n",
    "        lon.append(response['coord']['lon'])\n",
    "        temp.append(response['main']['temp_max'])\n",
    "        humidity.append(response['main']['humidity'])\n",
    "        cloudiness.append(response['clouds']['all'])\n",
    "        wind_speed.append(response['wind']['speed'])\n",
    "        date.append(response['dt'])\n",
    "        country.append(response['sys']['country'])\n",
    "        date.append(response['dt'])\n",
    "        found_cities.append(city)\n",
    "        print(f\"Record found: {city}\")\n",
    "    except:\n",
    "        print(f\"City not found: {city}\")\n",
    "print(f\"Finished -- Finally!\")\n"
   ]
  },
  {
   "cell_type": "markdown",
   "metadata": {},
   "source": [
    "### Convert Raw Data to DataFrame\n",
    "* Export the city data into a .csv.\n",
    "* Display the DataFrame"
   ]
  },
  {
   "cell_type": "code",
   "execution_count": 4,
   "metadata": {},
   "outputs": [
    {
     "data": {
      "text/html": [
       "<div>\n",
       "<style scoped>\n",
       "    .dataframe tbody tr th:only-of-type {\n",
       "        vertical-align: middle;\n",
       "    }\n",
       "\n",
       "    .dataframe tbody tr th {\n",
       "        vertical-align: top;\n",
       "    }\n",
       "\n",
       "    .dataframe thead th {\n",
       "        text-align: right;\n",
       "    }\n",
       "</style>\n",
       "<table border=\"1\" class=\"dataframe\">\n",
       "  <thead>\n",
       "    <tr style=\"text-align: right;\">\n",
       "      <th></th>\n",
       "      <th>City</th>\n",
       "      <th>Lat</th>\n",
       "      <th>Lon</th>\n",
       "      <th>Max Temp</th>\n",
       "      <th>Humidity</th>\n",
       "      <th>Cloudiness</th>\n",
       "      <th>Wind Speed</th>\n",
       "      <th>Country</th>\n",
       "      <th>Date</th>\n",
       "    </tr>\n",
       "  </thead>\n",
       "  <tbody>\n",
       "    <tr>\n",
       "      <th>0</th>\n",
       "      <td>nha trang</td>\n",
       "      <td>12.2500</td>\n",
       "      <td>109.1833</td>\n",
       "      <td>84.20</td>\n",
       "      <td>81</td>\n",
       "      <td>100</td>\n",
       "      <td>3.62</td>\n",
       "      <td>VN</td>\n",
       "      <td>2022-08-12</td>\n",
       "    </tr>\n",
       "    <tr>\n",
       "      <th>1</th>\n",
       "      <td>kapaa</td>\n",
       "      <td>22.0752</td>\n",
       "      <td>-159.3190</td>\n",
       "      <td>73.72</td>\n",
       "      <td>91</td>\n",
       "      <td>40</td>\n",
       "      <td>11.50</td>\n",
       "      <td>US</td>\n",
       "      <td>2022-08-12</td>\n",
       "    </tr>\n",
       "    <tr>\n",
       "      <th>2</th>\n",
       "      <td>sitka</td>\n",
       "      <td>57.0531</td>\n",
       "      <td>-135.3300</td>\n",
       "      <td>60.69</td>\n",
       "      <td>88</td>\n",
       "      <td>40</td>\n",
       "      <td>0.00</td>\n",
       "      <td>US</td>\n",
       "      <td>2022-08-12</td>\n",
       "    </tr>\n",
       "    <tr>\n",
       "      <th>3</th>\n",
       "      <td>punta arenas</td>\n",
       "      <td>-53.1500</td>\n",
       "      <td>-70.9167</td>\n",
       "      <td>35.71</td>\n",
       "      <td>87</td>\n",
       "      <td>100</td>\n",
       "      <td>6.91</td>\n",
       "      <td>CL</td>\n",
       "      <td>2022-08-12</td>\n",
       "    </tr>\n",
       "    <tr>\n",
       "      <th>4</th>\n",
       "      <td>ponta do sol</td>\n",
       "      <td>32.6667</td>\n",
       "      <td>-17.1000</td>\n",
       "      <td>79.00</td>\n",
       "      <td>61</td>\n",
       "      <td>19</td>\n",
       "      <td>5.37</td>\n",
       "      <td>PT</td>\n",
       "      <td>2022-08-12</td>\n",
       "    </tr>\n",
       "  </tbody>\n",
       "</table>\n",
       "</div>"
      ],
      "text/plain": [
       "           City      Lat       Lon  Max Temp  Humidity  Cloudiness  \\\n",
       "0     nha trang  12.2500  109.1833     84.20        81         100   \n",
       "1         kapaa  22.0752 -159.3190     73.72        91          40   \n",
       "2         sitka  57.0531 -135.3300     60.69        88          40   \n",
       "3  punta arenas -53.1500  -70.9167     35.71        87         100   \n",
       "4  ponta do sol  32.6667  -17.1000     79.00        61          19   \n",
       "\n",
       "   Wind Speed Country        Date  \n",
       "0        3.62      VN  2022-08-12  \n",
       "1       11.50      US  2022-08-12  \n",
       "2        0.00      US  2022-08-12  \n",
       "3        6.91      CL  2022-08-12  \n",
       "4        5.37      PT  2022-08-12  "
      ]
     },
     "execution_count": 4,
     "metadata": {},
     "output_type": "execute_result"
    }
   ],
   "source": [
    "\n",
    "weather_df = pd.DataFrame({\n",
    "    'City':found_cities, \n",
    "    'Lat':lat,\n",
    "    'Lon':lon,\n",
    "    'Max Temp':temp,\n",
    "    'Humidity':humidity,\n",
    "    'Cloudiness':cloudiness,\n",
    "    'Wind Speed':wind_speed,\n",
    "    'Country':country,\n",
    "    'Date': dt.date.today()\n",
    "    })\n",
    "weather_df.to_csv(\"../python-api-challenge/output/cities.csv\", index=True, index_label='City', header=True)\n",
    "\n",
    "weather_df.head()"
   ]
  },
  {
   "cell_type": "markdown",
   "metadata": {},
   "source": [
    "## Inspect the data and remove the cities where the humidity > 100%.\n",
    "----\n",
    "Skip this step if there are no cities that have humidity > 100%. "
   ]
  },
  {
   "cell_type": "code",
   "execution_count": 5,
   "metadata": {},
   "outputs": [
    {
     "data": {
      "text/html": [
       "<div>\n",
       "<style scoped>\n",
       "    .dataframe tbody tr th:only-of-type {\n",
       "        vertical-align: middle;\n",
       "    }\n",
       "\n",
       "    .dataframe tbody tr th {\n",
       "        vertical-align: top;\n",
       "    }\n",
       "\n",
       "    .dataframe thead th {\n",
       "        text-align: right;\n",
       "    }\n",
       "</style>\n",
       "<table border=\"1\" class=\"dataframe\">\n",
       "  <thead>\n",
       "    <tr style=\"text-align: right;\">\n",
       "      <th></th>\n",
       "      <th>City</th>\n",
       "      <th>Lat</th>\n",
       "      <th>Lon</th>\n",
       "      <th>Max Temp</th>\n",
       "      <th>Humidity</th>\n",
       "      <th>Cloudiness</th>\n",
       "      <th>Wind Speed</th>\n",
       "      <th>Country</th>\n",
       "      <th>Date</th>\n",
       "    </tr>\n",
       "  </thead>\n",
       "  <tbody>\n",
       "  </tbody>\n",
       "</table>\n",
       "</div>"
      ],
      "text/plain": [
       "Empty DataFrame\n",
       "Columns: [City, Lat, Lon, Max Temp, Humidity, Cloudiness, Wind Speed, Country, Date]\n",
       "Index: []"
      ]
     },
     "execution_count": 5,
     "metadata": {},
     "output_type": "execute_result"
    }
   ],
   "source": [
    "steamy = weather_df[weather_df['Humidity'] > 100]\n",
    "steamy"
   ]
  },
  {
   "cell_type": "code",
   "execution_count": 6,
   "metadata": {},
   "outputs": [
    {
     "data": {
      "text/html": [
       "<div>\n",
       "<style scoped>\n",
       "    .dataframe tbody tr th:only-of-type {\n",
       "        vertical-align: middle;\n",
       "    }\n",
       "\n",
       "    .dataframe tbody tr th {\n",
       "        vertical-align: top;\n",
       "    }\n",
       "\n",
       "    .dataframe thead th {\n",
       "        text-align: right;\n",
       "    }\n",
       "</style>\n",
       "<table border=\"1\" class=\"dataframe\">\n",
       "  <thead>\n",
       "    <tr style=\"text-align: right;\">\n",
       "      <th></th>\n",
       "      <th>Lat</th>\n",
       "      <th>Lon</th>\n",
       "      <th>Max Temp</th>\n",
       "      <th>Humidity</th>\n",
       "      <th>Cloudiness</th>\n",
       "      <th>Wind Speed</th>\n",
       "    </tr>\n",
       "  </thead>\n",
       "  <tbody>\n",
       "    <tr>\n",
       "      <th>count</th>\n",
       "      <td>558.000000</td>\n",
       "      <td>558.000000</td>\n",
       "      <td>558.000000</td>\n",
       "      <td>558.000000</td>\n",
       "      <td>558.00000</td>\n",
       "      <td>558.000000</td>\n",
       "    </tr>\n",
       "    <tr>\n",
       "      <th>mean</th>\n",
       "      <td>19.823739</td>\n",
       "      <td>16.056725</td>\n",
       "      <td>70.828495</td>\n",
       "      <td>69.136201</td>\n",
       "      <td>55.62724</td>\n",
       "      <td>8.344158</td>\n",
       "    </tr>\n",
       "    <tr>\n",
       "      <th>std</th>\n",
       "      <td>33.430091</td>\n",
       "      <td>89.530032</td>\n",
       "      <td>15.630738</td>\n",
       "      <td>22.645010</td>\n",
       "      <td>39.79035</td>\n",
       "      <td>6.016991</td>\n",
       "    </tr>\n",
       "    <tr>\n",
       "      <th>min</th>\n",
       "      <td>-54.800000</td>\n",
       "      <td>-175.200000</td>\n",
       "      <td>26.060000</td>\n",
       "      <td>7.000000</td>\n",
       "      <td>0.00000</td>\n",
       "      <td>0.000000</td>\n",
       "    </tr>\n",
       "    <tr>\n",
       "      <th>25%</th>\n",
       "      <td>-7.197450</td>\n",
       "      <td>-64.915350</td>\n",
       "      <td>58.895000</td>\n",
       "      <td>58.250000</td>\n",
       "      <td>12.50000</td>\n",
       "      <td>4.000000</td>\n",
       "    </tr>\n",
       "    <tr>\n",
       "      <th>50%</th>\n",
       "      <td>25.154000</td>\n",
       "      <td>20.436800</td>\n",
       "      <td>73.800000</td>\n",
       "      <td>75.000000</td>\n",
       "      <td>63.00000</td>\n",
       "      <td>7.090000</td>\n",
       "    </tr>\n",
       "    <tr>\n",
       "      <th>75%</th>\n",
       "      <td>47.235525</td>\n",
       "      <td>88.499275</td>\n",
       "      <td>81.660000</td>\n",
       "      <td>86.000000</td>\n",
       "      <td>100.00000</td>\n",
       "      <td>11.500000</td>\n",
       "    </tr>\n",
       "    <tr>\n",
       "      <th>max</th>\n",
       "      <td>78.218600</td>\n",
       "      <td>179.316700</td>\n",
       "      <td>111.510000</td>\n",
       "      <td>100.000000</td>\n",
       "      <td>100.00000</td>\n",
       "      <td>39.350000</td>\n",
       "    </tr>\n",
       "  </tbody>\n",
       "</table>\n",
       "</div>"
      ],
      "text/plain": [
       "              Lat         Lon    Max Temp    Humidity  Cloudiness  Wind Speed\n",
       "count  558.000000  558.000000  558.000000  558.000000   558.00000  558.000000\n",
       "mean    19.823739   16.056725   70.828495   69.136201    55.62724    8.344158\n",
       "std     33.430091   89.530032   15.630738   22.645010    39.79035    6.016991\n",
       "min    -54.800000 -175.200000   26.060000    7.000000     0.00000    0.000000\n",
       "25%     -7.197450  -64.915350   58.895000   58.250000    12.50000    4.000000\n",
       "50%     25.154000   20.436800   73.800000   75.000000    63.00000    7.090000\n",
       "75%     47.235525   88.499275   81.660000   86.000000   100.00000   11.500000\n",
       "max     78.218600  179.316700  111.510000  100.000000   100.00000   39.350000"
      ]
     },
     "execution_count": 6,
     "metadata": {},
     "output_type": "execute_result"
    }
   ],
   "source": [
    "weather_df.describe()"
   ]
  },
  {
   "cell_type": "code",
   "execution_count": null,
   "metadata": {},
   "outputs": [],
   "source": [
    "#  Get the indices of cities that have humidity over 100%.\n",
    "# There were no cities over 100%"
   ]
  },
  {
   "cell_type": "code",
   "execution_count": 7,
   "metadata": {},
   "outputs": [
    {
     "data": {
      "text/html": [
       "<div>\n",
       "<style scoped>\n",
       "    .dataframe tbody tr th:only-of-type {\n",
       "        vertical-align: middle;\n",
       "    }\n",
       "\n",
       "    .dataframe tbody tr th {\n",
       "        vertical-align: top;\n",
       "    }\n",
       "\n",
       "    .dataframe thead th {\n",
       "        text-align: right;\n",
       "    }\n",
       "</style>\n",
       "<table border=\"1\" class=\"dataframe\">\n",
       "  <thead>\n",
       "    <tr style=\"text-align: right;\">\n",
       "      <th></th>\n",
       "      <th>City</th>\n",
       "      <th>Lat</th>\n",
       "      <th>Lon</th>\n",
       "      <th>Max Temp</th>\n",
       "      <th>Humidity</th>\n",
       "      <th>Cloudiness</th>\n",
       "      <th>Wind Speed</th>\n",
       "      <th>Country</th>\n",
       "      <th>Date</th>\n",
       "    </tr>\n",
       "  </thead>\n",
       "  <tbody>\n",
       "    <tr>\n",
       "      <th>0</th>\n",
       "      <td>nha trang</td>\n",
       "      <td>12.2500</td>\n",
       "      <td>109.1833</td>\n",
       "      <td>84.20</td>\n",
       "      <td>81</td>\n",
       "      <td>100</td>\n",
       "      <td>3.62</td>\n",
       "      <td>VN</td>\n",
       "      <td>2022-08-12</td>\n",
       "    </tr>\n",
       "    <tr>\n",
       "      <th>1</th>\n",
       "      <td>kapaa</td>\n",
       "      <td>22.0752</td>\n",
       "      <td>-159.3190</td>\n",
       "      <td>73.72</td>\n",
       "      <td>91</td>\n",
       "      <td>40</td>\n",
       "      <td>11.50</td>\n",
       "      <td>US</td>\n",
       "      <td>2022-08-12</td>\n",
       "    </tr>\n",
       "    <tr>\n",
       "      <th>2</th>\n",
       "      <td>sitka</td>\n",
       "      <td>57.0531</td>\n",
       "      <td>-135.3300</td>\n",
       "      <td>60.69</td>\n",
       "      <td>88</td>\n",
       "      <td>40</td>\n",
       "      <td>0.00</td>\n",
       "      <td>US</td>\n",
       "      <td>2022-08-12</td>\n",
       "    </tr>\n",
       "    <tr>\n",
       "      <th>3</th>\n",
       "      <td>punta arenas</td>\n",
       "      <td>-53.1500</td>\n",
       "      <td>-70.9167</td>\n",
       "      <td>35.71</td>\n",
       "      <td>87</td>\n",
       "      <td>100</td>\n",
       "      <td>6.91</td>\n",
       "      <td>CL</td>\n",
       "      <td>2022-08-12</td>\n",
       "    </tr>\n",
       "    <tr>\n",
       "      <th>4</th>\n",
       "      <td>ponta do sol</td>\n",
       "      <td>32.6667</td>\n",
       "      <td>-17.1000</td>\n",
       "      <td>79.00</td>\n",
       "      <td>61</td>\n",
       "      <td>19</td>\n",
       "      <td>5.37</td>\n",
       "      <td>PT</td>\n",
       "      <td>2022-08-12</td>\n",
       "    </tr>\n",
       "  </tbody>\n",
       "</table>\n",
       "</div>"
      ],
      "text/plain": [
       "           City      Lat       Lon  Max Temp  Humidity  Cloudiness  \\\n",
       "0     nha trang  12.2500  109.1833     84.20        81         100   \n",
       "1         kapaa  22.0752 -159.3190     73.72        91          40   \n",
       "2         sitka  57.0531 -135.3300     60.69        88          40   \n",
       "3  punta arenas -53.1500  -70.9167     35.71        87         100   \n",
       "4  ponta do sol  32.6667  -17.1000     79.00        61          19   \n",
       "\n",
       "   Wind Speed Country        Date  \n",
       "0        3.62      VN  2022-08-12  \n",
       "1       11.50      US  2022-08-12  \n",
       "2        0.00      US  2022-08-12  \n",
       "3        6.91      CL  2022-08-12  \n",
       "4        5.37      PT  2022-08-12  "
      ]
     },
     "execution_count": 7,
     "metadata": {},
     "output_type": "execute_result"
    }
   ],
   "source": [
    "# Make a new DataFrame equal to the city data to drop all humidity outliers by index.\n",
    "# Passing \"inplace=False\" will make a copy of the city_data DataFrame, which we call \"clean_city_data\".\n",
    "clean_city_data = weather_df.loc[weather_df['Humidity'] <= 100]\n",
    "clean_city_data.head()"
   ]
  },
  {
   "cell_type": "markdown",
   "metadata": {},
   "source": [
    "## Plotting the Data\n",
    "* Use proper labeling of the plots using plot titles (including date of analysis) and axes labels.\n",
    "* Save the plotted figures as .pngs."
   ]
  },
  {
   "cell_type": "markdown",
   "metadata": {},
   "source": [
    "## Latitude vs. Temperature Plot"
   ]
  },
  {
   "cell_type": "code",
   "execution_count": 8,
   "metadata": {
    "scrolled": true
   },
   "outputs": [
    {
     "data": {
      "image/png": "[encoded data removed]",
      "text/plain": [
       "<Figure size 432x288 with 1 Axes>"
      ]
     },
     "metadata": {
      "needs_background": "light"
     },
     "output_type": "display_data"
    }
   ],
   "source": [
    "plt.scatter(lat, temp, marker=\"o\", facecolors=\"green\" )\n",
    "\n",
    "# add labels and display as a grid\n",
    "plt.title(\"Latitude vs Temperature\", fontsize=14, weight='bold')\n",
    "plt.xlabel(\"Latitude\", fontsize=10)\n",
    "plt.ylabel(\"Temperature(F)\", fontsize=10)\n",
    "plt.grid()\n",
    "plt.savefig(\"../python-api-challenge/output/images/lat_vs_temp.png\")\n",
    "plt.show()"
   ]
  },
  {
   "cell_type": "markdown",
   "metadata": {},
   "source": [
    "### The closer you are to the equator (0), the greater the likelihood of a higher temperature."
   ]
  },
  {
   "cell_type": "markdown",
   "metadata": {},
   "source": [
    "## Latitude vs. Humidity Plot"
   ]
  },
  {
   "cell_type": "code",
   "execution_count": 9,
   "metadata": {},
   "outputs": [
    {
     "data": {
      "image/png": "[encoded data removed]",
      "text/plain": [
       "<Figure size 432x288 with 1 Axes>"
      ]
     },
     "metadata": {
      "needs_background": "light"
     },
     "output_type": "display_data"
    }
   ],
   "source": [
    "plt.scatter(lon, humidity, marker=\"o\", facecolors=\"blue\" )\n",
    "\n",
    "# add labels and display as a grid\n",
    "plt.title(\"Longitude vs Humidity\", fontsize=14, weight='bold')\n",
    "plt.xlabel(\"Longitude\", fontsize=10)\n",
    "plt.ylabel(\"Humidity\", fontsize=10)\n",
    "plt.grid()\n",
    "plt.savefig(\"../python-api-challenge/output/images/lon_vs_humid.png\")\n",
    "plt.show()"
   ]
  },
  {
   "cell_type": "markdown",
   "metadata": {},
   "source": [
    "### The humidity levels are often more concentrated away from 0"
   ]
  },
  {
   "cell_type": "markdown",
   "metadata": {},
   "source": [
    "## Latitude vs. Cloudiness Plot"
   ]
  },
  {
   "cell_type": "code",
   "execution_count": 10,
   "metadata": {},
   "outputs": [
    {
     "data": {
      "image/png": "[encoded data removed]",
      "text/plain": [
       "<Figure size 432x288 with 1 Axes>"
      ]
     },
     "metadata": {
      "needs_background": "light"
     },
     "output_type": "display_data"
    }
   ],
   "source": [
    "plt.scatter(lat, cloudiness, marker=\"o\", facecolors=\"dodgerblue\", edgecolor='black' )\n",
    "\n",
    "# add labels and display as a grid\n",
    "plt.title(\"Latitude vs Cloudiness\", fontsize=14, weight='bold')\n",
    "plt.xlabel(\"Latitude\", fontsize=10)\n",
    "plt.ylabel(\"Cloudiness\", fontsize=10)\n",
    "plt.grid()\n",
    "plt.savefig(\"../python-api-challenge/output/images/lat_vs_cloud.png\")\n",
    "plt.show()"
   ]
  },
  {
   "cell_type": "markdown",
   "metadata": {},
   "source": [
    "### The sun is always shining near the equator."
   ]
  },
  {
   "cell_type": "markdown",
   "metadata": {},
   "source": [
    "## Latitude vs. Wind Speed Plot"
   ]
  },
  {
   "cell_type": "code",
   "execution_count": 11,
   "metadata": {},
   "outputs": [
    {
     "data": {
      "image/png": "[encoded data removed]",
      "text/plain": [
       "<Figure size 432x288 with 1 Axes>"
      ]
     },
     "metadata": {
      "needs_background": "light"
     },
     "output_type": "display_data"
    }
   ],
   "source": [
    "plt.scatter(lat, wind_speed, marker=\"o\", facecolors=\"orange\" )\n",
    "\n",
    "# add labels and display as a grid\n",
    "plt.title(\"Latitude vs Wind Speed\", fontsize=14, weight='bold')\n",
    "plt.xlabel(\"Latitude\", fontsize=10)\n",
    "plt.ylabel(\"Wind Speed (mph)\", fontsize=10)\n",
    "plt.grid()\n",
    "plt.savefig(\"../python-api-challenge/output/images/lat_vs_wind.png\")\n",
    "plt.show()"
   ]
  },
  {
   "cell_type": "markdown",
   "metadata": {},
   "source": [
    "### Wind speed is concentrated between 0 mph and 10 mph. There are some fliers farther away from the equator."
   ]
  },
  {
   "cell_type": "markdown",
   "metadata": {},
   "source": [
    "## Linear Regression"
   ]
  },
  {
   "cell_type": "code",
   "execution_count": 12,
   "metadata": {},
   "outputs": [],
   "source": [
    "# Create a function to create Linear Regression plots\n",
    "\n",
    "from sys import stderr\n",
    "\n",
    "\n",
    "def linearRegression(x_values, y_values, eq_plotX, eq_plotY, y_label):\n",
    "    (slope, intercept, rvalue, pvalue, stderr) = linregress(x_values, y_values)\n",
    "    regress_values = x_values * slope + intercept\n",
    "    line_eq = \"y = \" + str(round(slope,2)) + \"x + \" + str(round(intercept,2))\n",
    "    plt.scatter(x_values, y_values)\n",
    "    plt.plot(x_values, regress_values, \"r-\")\n",
    "    print(f\"The r-square is {rvalue}\")\n",
    "    print(line_eq)\n",
    "    plt.annotate(line_eq, (eq_plotX, eq_plotY), fontsize=12, color=\"red\")\n",
    "    # x is latitude\n",
    "    plt.xlabel('Latitude')\n",
    "    plt.ylabel(f'{y_label}')\n",
    "    plt.grid()\n",
    "\n",
    "northern_df = clean_city_data.loc[clean_city_data['Lat'] > 0]\n",
    "southern_df = clean_city_data.loc[clean_city_data['Lat'] < 0]"
   ]
  },
  {
   "cell_type": "markdown",
   "metadata": {},
   "source": [
    "####  Northern Hemisphere - Max Temp vs. Latitude Linear Regression"
   ]
  },
  {
   "cell_type": "code",
   "execution_count": 15,
   "metadata": {},
   "outputs": [
    {
     "name": "stdout",
     "output_type": "stream",
     "text": [
      "The r-square is -0.685795512817839\n",
      "y = -0.54x + 93.91\n"
     ]
    },
    {
     "data": {
      "image/png": "[encoded data removed]",
      "text/plain": [
       "<Figure size 432x288 with 1 Axes>"
      ]
     },
     "metadata": {
      "needs_background": "light"
     },
     "output_type": "display_data"
    }
   ],
   "source": [
    "x_values = northern_df['Lat']\n",
    "y_values = northern_df['Max Temp']\n",
    "\n",
    "eq_plotX = 2\n",
    "eq_plotY = 35\n",
    "y_label = \"Max Temp(F)\"\n",
    "plt.title(f\"Northern Hemisphere Latitude vs. Temperature(F)\")\n",
    "linearRegression(x_values, y_values, eq_plotX, eq_plotY, y_label)\n",
    "plt.savefig(\"../python-api-challenge/output/images/max_temp_north.png\")\n",
    "plt.show()"
   ]
  },
  {
   "cell_type": "markdown",
   "metadata": {},
   "source": [
    "#### It should come as no surprise that the further away from the equator you are, the lower the temperature will be."
   ]
  },
  {
   "cell_type": "markdown",
   "metadata": {},
   "source": [
    "####  Southern Hemisphere - Max Temp vs. Latitude Linear Regression"
   ]
  },
  {
   "cell_type": "code",
   "execution_count": 14,
   "metadata": {},
   "outputs": [
    {
     "name": "stdout",
     "output_type": "stream",
     "text": [
      "The r-square is 0.8002632080221994\n",
      "y = 0.87x + 85.02\n"
     ]
    },
    {
     "data": {
      "image/png": "[encoded data removed]",
      "text/plain": [
       "<Figure size 432x288 with 1 Axes>"
      ]
     },
     "metadata": {
      "needs_background": "light"
     },
     "output_type": "display_data"
    }
   ],
   "source": [
    "x_values = southern_df['Lat']\n",
    "y_values = southern_df['Max Temp']\n",
    "\n",
    "eq_plotX = -20\n",
    "eq_plotY = 35\n",
    "y_label = \"Max Temp(F)\"\n",
    "plt.title(f\"Southern Hemisphere Latitude vs. Temperature(F)\")\n",
    "linearRegression(x_values, y_values, eq_plotX, eq_plotY, y_label)\n",
    "plt.savefig(\"../python-api-challenge/output/images/max_temp_south.png\")\n",
    "plt.show()"
   ]
  },
  {
   "cell_type": "markdown",
   "metadata": {},
   "source": [
    "#### Conversely, the closer you are to the equator, the warmer it is."
   ]
  },
  {
   "cell_type": "markdown",
   "metadata": {},
   "source": [
    "####  Northern Hemisphere - Humidity (%) vs. Latitude Linear Regression"
   ]
  },
  {
   "cell_type": "code",
   "execution_count": 16,
   "metadata": {},
   "outputs": [
    {
     "name": "stdout",
     "output_type": "stream",
     "text": [
      "The r-square is 0.09118550135778411\n",
      "y = 0.1x + 65.28\n"
     ]
    },
    {
     "data": {
      "image/png": "[encoded data removed]",
      "text/plain": [
       "<Figure size 432x288 with 1 Axes>"
      ]
     },
     "metadata": {
      "needs_background": "light"
     },
     "output_type": "display_data"
    }
   ],
   "source": [
    "x_values = northern_df['Lat']\n",
    "y_values = northern_df['Humidity']\n",
    "\n",
    "eq_plotX = 50\n",
    "eq_plotY = 10\n",
    "y_label = \"Humidity\"\n",
    "plt.title(f\"Northern Hemisphere Latitude vs. Humidity\")\n",
    "linearRegression(x_values, y_values, eq_plotX, eq_plotY, y_label)\n",
    "plt.savefig(\"../python-api-challenge/output/images/humidity_north.png\")\n",
    "plt.show()"
   ]
  },
  {
   "cell_type": "markdown",
   "metadata": {},
   "source": [
    "#### It's sticky out there!"
   ]
  },
  {
   "cell_type": "markdown",
   "metadata": {},
   "source": [
    "####  Southern Hemisphere - Humidity (%) vs. Latitude Linear Regression"
   ]
  },
  {
   "cell_type": "code",
   "execution_count": 17,
   "metadata": {},
   "outputs": [
    {
     "name": "stdout",
     "output_type": "stream",
     "text": [
      "The r-square is -0.1641733004974511\n",
      "y = -0.28x + 62.84\n"
     ]
    },
    {
     "data": {
      "image/png": "[encoded data removed]",
      "text/plain": [
       "<Figure size 432x288 with 1 Axes>"
      ]
     },
     "metadata": {
      "needs_background": "light"
     },
     "output_type": "display_data"
    }
   ],
   "source": [
    "x_values = southern_df['Lat']\n",
    "y_values = southern_df['Humidity']\n",
    "\n",
    "eq_plotX = -55\n",
    "eq_plotY = 20\n",
    "y_label = \"Humidity\"\n",
    "plt.title(f\"Southern Hemisphere Latitude vs. Humidity\")\n",
    "linearRegression(x_values, y_values, eq_plotX, eq_plotY, y_label)\n",
    "plt.savefig(\"../python-api-challenge/output/images/humidity_south.png\")\n",
    "plt.show()"
   ]
  },
  {
   "cell_type": "markdown",
   "metadata": {},
   "source": [
    "#### In the southern hempisphere, it seems that the humidity is a bit more scattered than in the north."
   ]
  },
  {
   "cell_type": "markdown",
   "metadata": {},
   "source": [
    "####  Northern Hemisphere - Cloudiness (%) vs. Latitude Linear Regression"
   ]
  },
  {
   "cell_type": "code",
   "execution_count": 18,
   "metadata": {},
   "outputs": [
    {
     "name": "stdout",
     "output_type": "stream",
     "text": [
      "The r-square is 0.034248456188420456\n",
      "y = 0.07x + 54.81\n"
     ]
    },
    {
     "data": {
      "image/png": "[encoded data removed]",
      "text/plain": [
       "<Figure size 432x288 with 1 Axes>"
      ]
     },
     "metadata": {
      "needs_background": "light"
     },
     "output_type": "display_data"
    }
   ],
   "source": [
    "x_values = northern_df['Lat']\n",
    "y_values = northern_df['Cloudiness']\n",
    "\n",
    "eq_plotX = 75\n",
    "eq_plotY = 20\n",
    "y_label = \"Cloudiness\"\n",
    "plt.title(f\"Northern Hemisphere Latitude vs. Cloudiness\")\n",
    "linearRegression(x_values, y_values, eq_plotX, eq_plotY, y_label)\n",
    "plt.savefig(\"../python-api-challenge/output/images/cloudiness_north.png\")\n",
    "plt.show()"
   ]
  },
  {
   "cell_type": "markdown",
   "metadata": {},
   "source": [
    "#### In the north, cloud cover is at the extremes. Significant clustering at both ends of the scale."
   ]
  },
  {
   "cell_type": "markdown",
   "metadata": {},
   "source": [
    "####  Southern Hemisphere - Cloudiness (%) vs. Latitude Linear Regression"
   ]
  },
  {
   "cell_type": "code",
   "execution_count": 19,
   "metadata": {},
   "outputs": [
    {
     "name": "stdout",
     "output_type": "stream",
     "text": [
      "The r-square is 0.010068736550519219\n",
      "y = 0.03x + 52.05\n"
     ]
    },
    {
     "data": {
      "image/png": "[encoded data removed]",
      "text/plain": [
       "<Figure size 432x288 with 1 Axes>"
      ]
     },
     "metadata": {
      "needs_background": "light"
     },
     "output_type": "display_data"
    }
   ],
   "source": [
    "x_values = southern_df['Lat']\n",
    "y_values = southern_df['Cloudiness']\n",
    "\n",
    "eq_plotX = 75\n",
    "eq_plotY = 20\n",
    "y_label = \"Cloudiness\"\n",
    "plt.title(f\"Southern Hemisphere Latitude vs. Cloudiness\")\n",
    "linearRegression(x_values, y_values, eq_plotX, eq_plotY, y_label)\n",
    "plt.savefig(\"../python-api-challenge/output/images/cloudiness_south.png\")\n",
    "plt.show()"
   ]
  },
  {
   "cell_type": "markdown",
   "metadata": {},
   "source": [
    "#### While somewhat less clustered, the south shows similar results. "
   ]
  },
  {
   "cell_type": "markdown",
   "metadata": {},
   "source": [
    "####  Northern Hemisphere - Wind Speed (mph) vs. Latitude Linear Regression"
   ]
  },
  {
   "cell_type": "code",
   "execution_count": 20,
   "metadata": {},
   "outputs": [
    {
     "name": "stdout",
     "output_type": "stream",
     "text": [
      "The r-square is 0.04828849024805701\n",
      "y = 0.02x + 7.53\n"
     ]
    },
    {
     "data": {
      "image/png": "[encoded data removed]",
      "text/plain": [
       "<Figure size 432x288 with 1 Axes>"
      ]
     },
     "metadata": {
      "needs_background": "light"
     },
     "output_type": "display_data"
    }
   ],
   "source": [
    "x_values = northern_df['Lat']\n",
    "y_values = northern_df['Wind Speed']\n",
    "\n",
    "eq_plotX = 30\n",
    "eq_plotY = 30\n",
    "y_label = \"Wind Speed\"\n",
    "plt.title(f\"Northern Hemisphere Latitude vs. Wind Speed\")\n",
    "linearRegression(x_values, y_values, eq_plotX, eq_plotY, y_label)\n",
    "plt.savefig(\"../python-api-challenge/output/images/wind_north.png\")\n",
    "plt.show()"
   ]
  },
  {
   "cell_type": "markdown",
   "metadata": {},
   "source": [
    "#### In the north, it's not all that windy. Heavy concentration between 0 & 10 mph."
   ]
  },
  {
   "cell_type": "markdown",
   "metadata": {},
   "source": [
    "####  Southern Hemisphere - Wind Speed (mph) vs. Latitude Linear Regression"
   ]
  },
  {
   "cell_type": "code",
   "execution_count": 25,
   "metadata": {},
   "outputs": [
    {
     "name": "stdout",
     "output_type": "stream",
     "text": [
      "The r-square is -0.09233178279462859\n",
      "y = -0.04x + 8.02\n"
     ]
    },
    {
     "data": {
      "image/png": "[encoded data removed]",
      "text/plain": [
       "<Figure size 432x288 with 1 Axes>"
      ]
     },
     "metadata": {
      "needs_background": "light"
     },
     "output_type": "display_data"
    }
   ],
   "source": [
    "x_values = southern_df['Lat']\n",
    "y_values = southern_df['Wind Speed']\n",
    "\n",
    "eq_plotX = -30\n",
    "eq_plotY = 26\n",
    "y_label = \"Wind Speed\"\n",
    "plt.title(f\"Southern Hemisphere Latitude vs. Wind Speed\")\n",
    "linearRegression(x_values, y_values, eq_plotX, eq_plotY, y_label)\n",
    "plt.savefig(\"../python-api-challenge/output/images/wind_south.png\")\n",
    "plt.show()"
   ]
  },
  {
   "cell_type": "markdown",
   "metadata": {},
   "source": [
    "#### In the south, the wind speed is similar to the north, but the slope is negative which suggests that it's less windy near the equator."
   ]
  }
 ],
 "metadata": {
  "anaconda-cloud": {},
  "kernel_info": {
   "name": "python3"
  },
  "kernelspec": {
   "display_name": "Python 3.8.13 ('Python38')",
   "language": "python",
   "name": "python3"
  },
  "language_info": {
   "codemirror_mode": {
    "name": "ipython",
    "version": 3
   },
   "file_extension": ".py",
   "mimetype": "text/x-python",
   "name": "python",
   "nbconvert_exporter": "python",
   "pygments_lexer": "ipython3",
   "version": "3.8.13"
  },
  "latex_envs": {
   "LaTeX_envs_menu_present": true,
   "autoclose": false,
   "autocomplete": true,
   "bibliofile": "biblio.bib",
   "cite_by": "apalike",
   "current_citInitial": 1,
   "eqLabelWithNumbers": true,
   "eqNumInitial": 1,
   "hotkeys": {
    "equation": "Ctrl-E",
    "itemize": "Ctrl-I"
   },
   "labels_anchors": false,
   "latex_user_defs": false,
   "report_style_numbering": false,
   "user_envs_cfg": false
  },
  "nteract": {
   "version": "0.12.3"
  },
  "vscode": {
   "interpreter": {
    "hash": "7113e3970f98a4d04de61aad7e2a4e99472b30f3b9a9e79f0555aab5ccdb8ff2"
   }
  }
 },
 "nbformat": 4,
 "nbformat_minor": 2
}
